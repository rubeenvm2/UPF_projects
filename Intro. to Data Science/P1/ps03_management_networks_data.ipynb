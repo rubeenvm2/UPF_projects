{
 "cells": [
  {
   "cell_type": "markdown",
   "metadata": {},
   "source": [
    "# Practice Session 03: Management of networks data"
   ]
  },
  {
   "cell_type": "markdown",
   "metadata": {},
   "source": [
    "Author: <font color=\"blue\">Rubén Vera Martínez</font>\n",
    "\n",
    "E-mail: <font color=\"blue\">ruben.vera01@estudiant.upf.edu</font>\n",
    "\n",
    "Date: <font color=\"blue\">11/10/2021</font>"
   ]
  },
  {
   "cell_type": "markdown",
   "metadata": {},
   "source": [
    "# 1. The diseasome bi-partite graph"
   ]
  },
  {
   "cell_type": "code",
   "execution_count": 3,
   "metadata": {},
   "outputs": [],
   "source": [
    "# Feel free to add imports if you need them\n",
    "\n",
    "import io\n",
    "import csv\n",
    "import pandas as pd"
   ]
  },
  {
   "cell_type": "code",
   "execution_count": 4,
   "metadata": {},
   "outputs": [],
   "source": [
    "# Leave this code as-is\n",
    "\n",
    "INPUT_FILENAME = \"disease-genes.csv\"\n",
    "OUTPUT_DISEASOME_FILENAME = \"diseasome.csv\""
   ]
  },
  {
   "cell_type": "code",
   "execution_count": 5,
   "metadata": {},
   "outputs": [
    {
     "data": {
      "text/html": [
       "<div>\n",
       "<style scoped>\n",
       "    .dataframe tbody tr th:only-of-type {\n",
       "        vertical-align: middle;\n",
       "    }\n",
       "\n",
       "    .dataframe tbody tr th {\n",
       "        vertical-align: top;\n",
       "    }\n",
       "\n",
       "    .dataframe thead th {\n",
       "        text-align: right;\n",
       "    }\n",
       "</style>\n",
       "<table border=\"1\" class=\"dataframe\">\n",
       "  <thead>\n",
       "    <tr style=\"text-align: right;\">\n",
       "      <th></th>\n",
       "      <th>Name</th>\n",
       "      <th>Genes</th>\n",
       "      <th>OMIM ID</th>\n",
       "      <th>Chromosome</th>\n",
       "      <th>Class</th>\n",
       "    </tr>\n",
       "    <tr>\n",
       "      <th>ID</th>\n",
       "      <th></th>\n",
       "      <th></th>\n",
       "      <th></th>\n",
       "      <th></th>\n",
       "      <th></th>\n",
       "    </tr>\n",
       "  </thead>\n",
       "  <tbody>\n",
       "    <tr>\n",
       "      <th>1</th>\n",
       "      <td>17,20-lyase deficiency, isolated</td>\n",
       "      <td>CYP17A1, CYP17, P450C17</td>\n",
       "      <td>609300</td>\n",
       "      <td>10q24.3</td>\n",
       "      <td>Endocrine</td>\n",
       "    </tr>\n",
       "    <tr>\n",
       "      <th>1</th>\n",
       "      <td>17-alpha-hydroxylase/17,20-lyase deficiency</td>\n",
       "      <td>CYP17A1, CYP17, P450C17</td>\n",
       "      <td>609300</td>\n",
       "      <td>10q24.3</td>\n",
       "      <td>Endocrine</td>\n",
       "    </tr>\n",
       "    <tr>\n",
       "      <th>3</th>\n",
       "      <td>2-methyl-3-hydroxybutyryl-CoA dehydrogenase de...</td>\n",
       "      <td>HADH2, ERAB</td>\n",
       "      <td>300256</td>\n",
       "      <td>Xp11.2</td>\n",
       "      <td>Metabolic</td>\n",
       "    </tr>\n",
       "    <tr>\n",
       "      <th>4</th>\n",
       "      <td>2-methylbutyrylglycinuria</td>\n",
       "      <td>ACADSB</td>\n",
       "      <td>600301</td>\n",
       "      <td>10q25-q26</td>\n",
       "      <td>Metabolic</td>\n",
       "    </tr>\n",
       "    <tr>\n",
       "      <th>5</th>\n",
       "      <td>3-beta-hydroxysteroid dehydrogenase, type II, ...</td>\n",
       "      <td>HSD3B2</td>\n",
       "      <td>201810</td>\n",
       "      <td>1p13.1</td>\n",
       "      <td>Metabolic</td>\n",
       "    </tr>\n",
       "    <tr>\n",
       "      <th>6</th>\n",
       "      <td>3-hydroxyacyl-CoA dehydrogenase deficiency</td>\n",
       "      <td>HADHSC, SCHAD</td>\n",
       "      <td>601609</td>\n",
       "      <td>4q22-q26</td>\n",
       "      <td>Metabolic</td>\n",
       "    </tr>\n",
       "    <tr>\n",
       "      <th>7</th>\n",
       "      <td>3-Methylcrotonyl-CoA carboxylase 1 deficiency</td>\n",
       "      <td>MCCC1, MCCA</td>\n",
       "      <td>609010</td>\n",
       "      <td>3q25-q27</td>\n",
       "      <td>Metabolic</td>\n",
       "    </tr>\n",
       "    <tr>\n",
       "      <th>7</th>\n",
       "      <td>3-Methylcrotonyl-CoA carboxylase 2 deficiency</td>\n",
       "      <td>MCCC2, MCCB</td>\n",
       "      <td>609014</td>\n",
       "      <td>5q12-q13</td>\n",
       "      <td>Metabolic</td>\n",
       "    </tr>\n",
       "    <tr>\n",
       "      <th>8</th>\n",
       "      <td>3-methylglutaconic aciduria, type I</td>\n",
       "      <td>AUH</td>\n",
       "      <td>600529</td>\n",
       "      <td>Chr.9</td>\n",
       "      <td>Metabolic</td>\n",
       "    </tr>\n",
       "    <tr>\n",
       "      <th>9</th>\n",
       "      <td>3-methylglutaconicaciduria, type III</td>\n",
       "      <td>OPA3, MGA3</td>\n",
       "      <td>606580</td>\n",
       "      <td>19q13.2-q13.3</td>\n",
       "      <td>Metabolic</td>\n",
       "    </tr>\n",
       "  </tbody>\n",
       "</table>\n",
       "</div>"
      ],
      "text/plain": [
       "                                                 Name  \\\n",
       "ID                                                      \n",
       "1                    17,20-lyase deficiency, isolated   \n",
       "1         17-alpha-hydroxylase/17,20-lyase deficiency   \n",
       "3   2-methyl-3-hydroxybutyryl-CoA dehydrogenase de...   \n",
       "4                           2-methylbutyrylglycinuria   \n",
       "5   3-beta-hydroxysteroid dehydrogenase, type II, ...   \n",
       "6          3-hydroxyacyl-CoA dehydrogenase deficiency   \n",
       "7       3-Methylcrotonyl-CoA carboxylase 1 deficiency   \n",
       "7       3-Methylcrotonyl-CoA carboxylase 2 deficiency   \n",
       "8                 3-methylglutaconic aciduria, type I   \n",
       "9                3-methylglutaconicaciduria, type III   \n",
       "\n",
       "                      Genes  OMIM ID     Chromosome      Class  \n",
       "ID                                                              \n",
       "1   CYP17A1, CYP17, P450C17   609300        10q24.3  Endocrine  \n",
       "1   CYP17A1, CYP17, P450C17   609300        10q24.3  Endocrine  \n",
       "3               HADH2, ERAB   300256         Xp11.2  Metabolic  \n",
       "4                    ACADSB   600301      10q25-q26  Metabolic  \n",
       "5                    HSD3B2   201810         1p13.1  Metabolic  \n",
       "6             HADHSC, SCHAD   601609       4q22-q26  Metabolic  \n",
       "7               MCCC1, MCCA   609010       3q25-q27  Metabolic  \n",
       "7               MCCC2, MCCB   609014       5q12-q13  Metabolic  \n",
       "8                       AUH   600529          Chr.9  Metabolic  \n",
       "9                OPA3, MGA3   606580  19q13.2-q13.3  Metabolic  "
      ]
     },
     "execution_count": 5,
     "metadata": {},
     "output_type": "execute_result"
    }
   ],
   "source": [
    "# Leave this code as-is\n",
    "\n",
    "disease_genes = pd.read_csv(INPUT_FILENAME, sep=\",\")\n",
    "disease_genes.set_index(\"ID\", inplace=True)\n",
    "disease_genes.head(10)"
   ]
  },
  {
   "cell_type": "code",
   "execution_count": 6,
   "metadata": {},
   "outputs": [
    {
     "data": {
      "text/html": [
       "<div>\n",
       "<style scoped>\n",
       "    .dataframe tbody tr th:only-of-type {\n",
       "        vertical-align: middle;\n",
       "    }\n",
       "\n",
       "    .dataframe tbody tr th {\n",
       "        vertical-align: top;\n",
       "    }\n",
       "\n",
       "    .dataframe thead th {\n",
       "        text-align: right;\n",
       "    }\n",
       "</style>\n",
       "<table border=\"1\" class=\"dataframe\">\n",
       "  <thead>\n",
       "    <tr style=\"text-align: right;\">\n",
       "      <th></th>\n",
       "      <th>disorder</th>\n",
       "      <th>class</th>\n",
       "      <th>gene_list</th>\n",
       "    </tr>\n",
       "    <tr>\n",
       "      <th>ID</th>\n",
       "      <th></th>\n",
       "      <th></th>\n",
       "      <th></th>\n",
       "    </tr>\n",
       "  </thead>\n",
       "  <tbody>\n",
       "    <tr>\n",
       "      <th>1</th>\n",
       "      <td>17,20-lyase deficiency, isolated</td>\n",
       "      <td>Endocrine</td>\n",
       "      <td>CYP17A1, CYP17, P450C17</td>\n",
       "    </tr>\n",
       "    <tr>\n",
       "      <th>1</th>\n",
       "      <td>17-alpha-hydroxylase/17,20-lyase deficiency</td>\n",
       "      <td>Endocrine</td>\n",
       "      <td>CYP17A1, CYP17, P450C17</td>\n",
       "    </tr>\n",
       "    <tr>\n",
       "      <th>3</th>\n",
       "      <td>2-methyl-3-hydroxybutyryl-CoA dehydrogenase de...</td>\n",
       "      <td>Metabolic</td>\n",
       "      <td>HADH2, ERAB</td>\n",
       "    </tr>\n",
       "  </tbody>\n",
       "</table>\n",
       "</div>"
      ],
      "text/plain": [
       "                                             disorder      class  \\\n",
       "ID                                                                 \n",
       "1                    17,20-lyase deficiency, isolated  Endocrine   \n",
       "1         17-alpha-hydroxylase/17,20-lyase deficiency  Endocrine   \n",
       "3   2-methyl-3-hydroxybutyryl-CoA dehydrogenase de...  Metabolic   \n",
       "\n",
       "                  gene_list  \n",
       "ID                           \n",
       "1   CYP17A1, CYP17, P450C17  \n",
       "1   CYP17A1, CYP17, P450C17  \n",
       "3               HADH2, ERAB  "
      ]
     },
     "execution_count": 6,
     "metadata": {},
     "output_type": "execute_result"
    }
   ],
   "source": [
    "selected_columns = disease_genes[[\"Name\", \"Class\", \"Genes\"]]\n",
    "diseasome = selected_columns.copy()\n",
    "diseasome.columns = ['disorder', 'class', 'gene_list']\n",
    "#diseasome.set_index(\"disorder\", inplace=True)\n",
    "diseasome.head(3)\n"
   ]
  },
  {
   "cell_type": "code",
   "execution_count": 10,
   "metadata": {},
   "outputs": [],
   "source": [
    "with io.open('diseasome.csv', \"w\") as fileout:\n",
    "    writer = csv.writer(fileout, delimiter='\\t', quotechar='\"')\n",
    "    writer.writerow([\"disorder\", \"class\", \"gene_list\"])\n",
    "    for i, disorder in diseasome.iterrows():\n",
    "        genes = disorder['gene_list'].split(',')\n",
    "        for gene in genes:\n",
    "            gene1 = gene.strip()\n",
    "            writer.writerow([disorder['disorder'], disorder['class'], gene1])\n",
    "        \n",
    "\n",
    "#diseasome.to_csv('C:/Users/ruben/Google Drive/2on - Enginyeria Matematica en Ciencia de Dades/Primer Trimestre/Introduccio a la ciencia de les xarxes/P3/diseasome.csv')\n",
    "#Con esta linea de arriba consegui crear el archivo como csv con la libreria panda pero no conseguí separar cada linea por genes.\n"
   ]
  },
  {
   "cell_type": "markdown",
   "metadata": {},
   "source": [
    "![Diseasome graph](diseasome.png)"
   ]
  },
  {
   "cell_type": "markdown",
   "metadata": {},
   "source": [
    "# 2. The disease-disease graph"
   ]
  },
  {
   "cell_type": "code",
   "execution_count": 14,
   "metadata": {},
   "outputs": [],
   "source": [
    "OUTPUT_DISEASEDISEASE_FILENAME = \"disease-disease.csv\"\n",
    "with io.open(OUTPUT_DISEASEDISEASE_FILENAME, \"w\") as fileout:\n",
    "    writer = csv.writer(fileout, delimiter='\\t', quotechar='\"')\n",
    "    writer.writerow([\"disorder1\", \"disease2\", \"ngenes1\", \"ngenes2\", \"class1\", \"class2\", \"ngenescommon\"])\n",
    "    for idx1, disorder1 in diseasome.iterrows():\n",
    "        gene_list_1 = disorder1['gene_list'].split(',')\n",
    "        for idx2, disorder2 in diseasome.iterrows():\n",
    "            if disorder2[\"disorder\"] > disorder1[\"disorder\"]:\n",
    "                gene_list_2 = disorder2['gene_list'].split(',')\n",
    "                common_genes = [value for value in gene_list_1 if value in gene_list_2]\n",
    "                if len(common_genes) > 0:\n",
    "                    writer.writerow([disorder1['disorder'], disorder2['disorder'], len(gene_list_1), len(gene_list_2),disorder1['class'], disorder2['class'], len(common_genes)])\n"
   ]
  },
  {
   "cell_type": "markdown",
   "metadata": {},
   "source": [
    "![Largest connected component of diseases graph](disease-disease-largest-cc.png)"
   ]
  },
  {
   "cell_type": "markdown",
   "metadata": {},
   "source": [
    "![Diseases graph](disease-disease.png)"
   ]
  },
  {
   "cell_type": "markdown",
   "metadata": {},
   "source": [
    "En el grafo se puede observar que hay algunas enfermedades que claramente son mas perjudiciales ya que estan relacionadas con muchas otras y por ello tienden a ser mas graves. Ademas, se puede observar como hay muchisimos grupos de diferentes tipo de enfermedades, y que la gran mayoria de componentes conexas son pequeñas ya que tienen un numero bajo de nodos, lo cual implica que muchas de las enfermedades estan relacionadas con pocas otras."
   ]
  },
  {
   "cell_type": "markdown",
   "metadata": {},
   "source": [
    "<font size=\"+2\" color=\"#003300\">I hereby declare that, except for the code provided by the course instructors, all of my code, report, and figures were produced by myself.</font>\n"
   ]
  }
 ],
 "metadata": {
  "kernelspec": {
   "display_name": "Python 3",
   "language": "python",
   "name": "python3"
  },
  "language_info": {
   "codemirror_mode": {
    "name": "ipython",
    "version": 3
   },
   "file_extension": ".py",
   "mimetype": "text/x-python",
   "name": "python",
   "nbconvert_exporter": "python",
   "pygments_lexer": "ipython3",
   "version": "3.8.8"
  }
 },
 "nbformat": 4,
 "nbformat_minor": 2
}
