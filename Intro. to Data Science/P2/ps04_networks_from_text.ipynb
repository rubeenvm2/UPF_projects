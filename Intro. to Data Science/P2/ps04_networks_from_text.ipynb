{
 "cells": [
  {
   "cell_type": "markdown",
   "metadata": {},
   "source": [
    "# Practice Session 04: Networks from text"
   ]
  },
  {
   "cell_type": "markdown",
   "metadata": {},
   "source": [
    "Author: <font color=\"blue\">Rubén Vera</font>\n",
    "\n",
    "E-mail: <font color=\"blue\">ruben.vera01@estudiant.upf.edu</font>\n",
    "\n",
    "Date: <font color=\"blue\">22/10/2021</font>"
   ]
  },
  {
   "cell_type": "markdown",
   "metadata": {},
   "source": [
    "# 1. Create the directed mention network"
   ]
  },
  {
   "cell_type": "code",
   "execution_count": 46,
   "metadata": {},
   "outputs": [],
   "source": [
    "import io\n",
    "import json\n",
    "import gzip\n",
    "import csv\n",
    "import re"
   ]
  },
  {
   "cell_type": "code",
   "execution_count": 47,
   "metadata": {},
   "outputs": [],
   "source": [
    "# Leave this code as-is\n",
    "\n",
    "# Input file\n",
    "COMPRESSED_INPUT_FILENAME = \"CovidLockdownCatalonia.json.gz\"\n",
    "\n",
    "# These are the output files, leave as-is\n",
    "OUTPUT_ALL_EDGES_FILENAME = \"CovidLockdownCatalonia.csv\"\n",
    "OUTPUT_FILTERED_EDGES_FILENAME = \"CovidLockdownCatalonia-min-weight-filtered.csv\"\n",
    "OUTPUT_CO_MENTIONS_FILENAME = \"CovidLockdownCatalonia-co-mentions.csv\""
   ]
  },
  {
   "cell_type": "markdown",
   "metadata": {},
   "source": [
    "## 1.1. Extract mentions"
   ]
  },
  {
   "cell_type": "code",
   "execution_count": 48,
   "metadata": {},
   "outputs": [
    {
     "name": "stdout",
     "output_type": "stream",
     "text": [
      "['Jordi', 'Xavier']\n"
     ]
    }
   ],
   "source": [
    "# Leave this code as-is\n",
    "\n",
    "def extract_mentions(text):\n",
    "    return re.findall(\"@([a-zA-Z0-9_]{5,20})\", text)\n",
    "\n",
    "print(extract_mentions(\"RT @Jordi: check this post by @Xavier\"))"
   ]
  },
  {
   "cell_type": "markdown",
   "metadata": {},
   "source": [
    "## 1.2. Count mentions"
   ]
  },
  {
   "cell_type": "code",
   "execution_count": 49,
   "metadata": {},
   "outputs": [],
   "source": [
    "mentions_counter = {}\n",
    "with gzip.open(COMPRESSED_INPUT_FILENAME, \"rt\", encoding=\"utf-8\") as input_file:\n",
    "    for line in input_file:\n",
    "        tweet = json.loads(line)\n",
    "        author = tweet[\"user\"][\"screen_name\"]\n",
    "        message = tweet[\"full_text\"]\n",
    "        mentions = extract_mentions(message)\n",
    "        for mention in mentions:\n",
    "            key = (author, mention)\n",
    "            if key in mentions_counter:\n",
    "                mentions_counter[key] += 1\n",
    "            else:\n",
    "                mentions_counter[key] = 1\n"
   ]
  },
  {
   "cell_type": "code",
   "execution_count": 50,
   "metadata": {},
   "outputs": [
    {
     "name": "stdout",
     "output_type": "stream",
     "text": [
      "9\n"
     ]
    }
   ],
   "source": [
    "print(mentions_counter['joanmariapique', 'catalangov'])"
   ]
  },
  {
   "cell_type": "code",
   "execution_count": 51,
   "metadata": {},
   "outputs": [],
   "source": [
    "# Leave this code as-is\n",
    "\n",
    "with io.open(OUTPUT_ALL_EDGES_FILENAME, \"w\") as output_file:\n",
    "    writer = csv.writer(output_file, delimiter='\\t', quotechar='\"')\n",
    "    writer.writerow([\"Source\", \"Target\", \"Weight\"])\n",
    "    for key in mentions_counter:\n",
    "        author = key[0]\n",
    "        mention = key[1]\n",
    "        weight = mentions_counter[key]\n",
    "        writer.writerow([author, mention, weight])"
   ]
  },
  {
   "cell_type": "code",
   "execution_count": 52,
   "metadata": {},
   "outputs": [],
   "source": [
    "with io.open(OUTPUT_FILTERED_EDGES_FILENAME, \"w\") as output_file:\n",
    "    writer = csv.writer(output_file, delimiter='\\t', quotechar='\"', lineterminator='\\n')\n",
    "    writer.writerow([\"Source\", \"Target\", \"Weight\"])\n",
    "    for key in mentions_counter:\n",
    "        author = key[0]\n",
    "        mention = key[1]\n",
    "        weight = mentions_counter[key]\n",
    "        if(weight >= 2):\n",
    "            writer.writerow([author, mention, weight])"
   ]
  },
  {
   "cell_type": "markdown",
   "metadata": {},
   "source": [
    "# 2. Visualize the directed mention network"
   ]
  },
  {
   "cell_type": "markdown",
   "metadata": {},
   "source": [
    "Open the **filtered** edge file in Cytoscape, by importing its CSV file. You may have to set the delimiter to \"Tab\" in the advanced options, when importing.\n",
    "\n",
    "The file is large so if you want to see all details while zooming out you may have to set ``View > Always show Graphic Details``. Note this makes the program run slower.\n",
    "\n",
    "Style the network:\n",
    "\n",
    "* Run \"Tools > Analyze Network ...\" (as a directed graph)\n",
    "* Style nodes by setting their size proportional to their in-degree\n",
    "* Style edges by setting their width and color (darker=more) using the *weight* attribute.\n",
    "\n",
    "*Tip*: to count nodes in Cytoscape, hold shift while clicking and select the nodes. In the lower-right corner you should see a count of nodes and edges.\n",
    "\n",
    "<font size=\"-1\" color=\"gray\">(Remove this cell when delivering.)</font>"
   ]
  },
  {
   "cell_type": "markdown",
   "metadata": {},
   "source": [
    " ![Mentions graph](mentions.png)"
   ]
  },
  {
   "cell_type": "markdown",
   "metadata": {},
   "source": [
    "En este grafo solo podemos encontrar una componente conexa, de 699 nodos, los cuales son 699 perfiles de twitter que han mencionado a otros perfiles o que han sido mencionados por otros. Se puede pareciar que hay ciertos nodos con mayor grado que se encuentran rodeados de muchos otros nodos probablemente porque esos nodos son personas mas populares las cuales se les suele mencionar con frecuencia y los nodos que los rodean son personas mas anonimas que no tienen mas interacciones que el hecho de mencionar al nodo central de su grupo."
   ]
  },
  {
   "cell_type": "markdown",
   "metadata": {},
   "source": [
    "![Mentions graph largest connected component](mentions-largest-cc.png)"
   ]
  },
  {
   "cell_type": "markdown",
   "metadata": {},
   "source": [
    " ![Mentions in-degree distribution](mentions-in-degree-distribution.png) ![Mentions out-degree distribution](mentions-out-degree-distribution.png)"
   ]
  },
  {
   "cell_type": "markdown",
   "metadata": {},
   "source": [
    "Este grafo es un grafo dirigido, donde los nodos con mas centralidad son como se ha mencionado en la respuesta anterior, aquellos nodos mas populares que tienden a tener muchas mas interacciones con otros usuarios por estar relacionado con el tema de los tweets extraidos. Un dato curioso es que en cuanto al grado de entrada, 686/699 nodos estan entre grado 0 y grado 5, mientras que solo 13 nodos superan ese grado. Lo curioso es que en el grado de salida nos encontramos con mas o menos los mismos valores, 685/699 nodos estan entre grado 0 y grado 5. Por lo que los usuarios seleccionados tienden a tener el mismo grado de salida que de entrada y suele estar entre el 0 y el 5."
   ]
  },
  {
   "cell_type": "markdown",
   "metadata": {},
   "source": [
    "# 3. Create the undirected co-mention network"
   ]
  },
  {
   "cell_type": "code",
   "execution_count": 53,
   "metadata": {},
   "outputs": [],
   "source": [
    "co_mentions_counter = {}\n",
    "with gzip.open(COMPRESSED_INPUT_FILENAME, \"rt\", encoding=\"utf-8\") as input_file:\n",
    "    for line in input_file:\n",
    "        tweet = json.loads(line)\n",
    "        author = tweet[\"user\"][\"screen_name\"]\n",
    "        message = tweet[\"full_text\"]\n",
    "        mentions = extract_mentions(message)\n",
    "        for mention1 in mentions:\n",
    "            for mention2 in mentions:\n",
    "                if mention1 < mention2:\n",
    "                    key = (mention1, mention2)\n",
    "                    if key in co_mentions_counter:\n",
    "                        co_mentions_counter[key] += 1\n",
    "                    else:\n",
    "                        co_mentions_counter[key] = 1"
   ]
  },
  {
   "cell_type": "code",
   "execution_count": 54,
   "metadata": {},
   "outputs": [
    {
     "name": "stdout",
     "output_type": "stream",
     "text": [
      "8\n"
     ]
    }
   ],
   "source": [
    "print(co_mentions_counter['agriculturacat','uniopagesos'])"
   ]
  },
  {
   "cell_type": "code",
   "execution_count": 55,
   "metadata": {},
   "outputs": [],
   "source": [
    "with io.open(OUTPUT_CO_MENTIONS_FILENAME, \"w\") as output_file:\n",
    "    writer = csv.writer(output_file, delimiter='\\t', quotechar='\"')\n",
    "    writer.writerow([\"Source\", \"Target\", \"Weight\"])\n",
    "    for key in co_mentions_counter:\n",
    "        mention1 = key[0]\n",
    "        mention2 = key[1]\n",
    "        weight = co_mentions_counter[key]\n",
    "        writer.writerow([mention1, mention2, weight])"
   ]
  },
  {
   "cell_type": "markdown",
   "metadata": {},
   "source": [
    "![Co-mentions graph](co-mentions.png)"
   ]
  },
  {
   "cell_type": "markdown",
   "metadata": {},
   "source": [
    "Los nodos mas centricos son aquellos con mayor grado y por consecuencia son aquellos que mas relación pueden tener en el tema que se trata en estos tweets, es decir son personas importantes en el ambito gubernamental o en el ambito de la salud. En cuanto al numero de nodos, al final siendo twitter una red social tan libre parece comprensible que pueda haber tantos nodos por el hecho de que cualquiera puede mencionar a otra persona. La componente conexa con mayor numero de nodos es aquella donde se encuentra la mayoria de la parte gubernamental y de la salud del país al igual que se menciona con los nodos de mayor grado. Las otras componentes son pequeños grupos que entre ellos tienen alta comunicación y a causa de ello se mencionan mutuamente sobre este tema ya que lo hacen con cualquier otro."
   ]
  },
  {
   "cell_type": "markdown",
   "metadata": {},
   "source": [
    "<font size=\"+2\" color=\"#003300\">I hereby declare that, except for the code provided by the course instructors, all of my code, text, and figures were produced by myself.</font>\n"
   ]
  }
 ],
 "metadata": {
  "kernelspec": {
   "display_name": "Python 3",
   "language": "python",
   "name": "python3"
  },
  "language_info": {
   "codemirror_mode": {
    "name": "ipython",
    "version": 3
   },
   "file_extension": ".py",
   "mimetype": "text/x-python",
   "name": "python",
   "nbconvert_exporter": "python",
   "pygments_lexer": "ipython3",
   "version": "3.8.8"
  }
 },
 "nbformat": 4,
 "nbformat_minor": 2
}
