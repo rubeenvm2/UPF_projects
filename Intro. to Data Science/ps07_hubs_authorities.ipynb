{
  "nbformat": 4,
  "nbformat_minor": 0,
  "metadata": {
    "kernelspec": {
      "display_name": "Python 3",
      "language": "python",
      "name": "python3"
    },
    "language_info": {
      "codemirror_mode": {
        "name": "ipython",
        "version": 3
      },
      "file_extension": ".py",
      "mimetype": "text/x-python",
      "name": "python",
      "nbconvert_exporter": "python",
      "pygments_lexer": "ipython3",
      "version": "3.8.8"
    },
    "colab": {
      "name": "ps07_hubs_authorities.ipynb",
      "provenance": [],
      "collapsed_sections": []
    }
  },
  "cells": [
    {
      "cell_type": "markdown",
      "metadata": {
        "id": "NXOuTFSv6xIf"
      },
      "source": [
        "# Practice Session 07: Hubs and authorities\n"
      ]
    },
    {
      "cell_type": "markdown",
      "metadata": {
        "id": "aguc090g6xIj"
      },
      "source": [
        "# 1. Read mapping of codes to country names"
      ]
    },
    {
      "cell_type": "code",
      "metadata": {
        "id": "VNg6DdSF6xIk"
      },
      "source": [
        "import csv\n",
        "import gzip\n",
        "import io\n",
        "import networkx as nx\n",
        "import matplotlib.pyplot as plt\n",
        "import math\n",
        "import pandas as pd"
      ],
      "execution_count": null,
      "outputs": []
    },
    {
      "cell_type": "code",
      "metadata": {
        "id": "WFs3yPEn6xIl"
      },
      "source": [
        "INPUT_NAMES_FILENAME = \"trade-countries.csv.gz\"\n",
        "INPUT_TRADE_1980 = \"trade_1980-flows.csv.gz\"\n",
        "INPUT_TRADE_2013 = \"trade_2013-flows.csv.gz\"\n",
        "\n",
        "# Organisation for Economic Co-operation and Development\n",
        "OECD = set([\"AUS\", \"AUT\", \"BEL\", \"CAN\", \"CHL\", \"COL\", \"CZE\", \"DNK\", \"EST\", \"FIN\", \"FRA\",\n",
        "        \"DEU\", \"GRC\", \"HUN\", \"ISL\", \"IRL\", \"ISR\", \"ITA\", \"JPN\", \"KOR\", \"LVA\", \"LTU\",\n",
        "        \"LUX\", \"MEX\", \"NLD\", \"NOR\", \"NZL\", \"POL\", \"CHE\", \"ESP\", \"GBR\", \"PRT\", \"SVK\",\n",
        "        \"SVN\", \"SWE\", \"TUR\", \"USA\"])\n",
        "\n",
        "# Brazil, Russia, India, China, and South Africa\n",
        "BRICS = set([\"BRA\", \"RUS\", \"IND\", \"CHN\", \"ZAF\"])\n",
        "\n",
        "# COUNTRIES\n",
        "COUNTRIES = OECD.union(BRICS)"
      ],
      "execution_count": null,
      "outputs": []
    },
    {
      "cell_type": "code",
      "metadata": {
        "id": "lzIT_g7r6xIm"
      },
      "source": [
        "id2name = {} #Creamos el diccionario id2name"
      ],
      "execution_count": null,
      "outputs": []
    },
    {
      "cell_type": "code",
      "metadata": {
        "id": "ACz0fzdz6xIn"
      },
      "source": [
        "# Open a compressed file for reading in text mode\n",
        "with gzip.open(INPUT_NAMES_FILENAME, \"rt\") as input_file:\n",
        "    # Create a CSV reader for a comma-delimited file with a header\n",
        "    reader = csv.DictReader(input_file, delimiter=',')\n",
        "    # Iterate through records, each record is a dictionary\n",
        "    for record in reader:\n",
        "        id2name[record[\"code\"]] = record[\"name\"] #Key code. Devuelve el nombre que corresponde a la abreviacion de cada pais"
      ],
      "execution_count": null,
      "outputs": []
    },
    {
      "cell_type": "code",
      "metadata": {
        "id": "m3ntbj-W6xIp",
        "colab": {
          "base_uri": "https://localhost:8080/"
        },
        "outputId": "df6b1332-050c-4f66-c345-58b68a8bccdd"
      },
      "source": [
        "# LEAVE AS-IS\n",
        "\n",
        "print(id2name[\"ZAF\"])"
      ],
      "execution_count": null,
      "outputs": [
        {
          "output_type": "stream",
          "name": "stdout",
          "text": [
            "South Africa\n"
          ]
        }
      ]
    },
    {
      "cell_type": "markdown",
      "metadata": {
        "id": "_H9aLKN96xIq"
      },
      "source": [
        "# 2. Read flows data into two graphs"
      ]
    },
    {
      "cell_type": "code",
      "metadata": {
        "id": "Q0oX9Ej46xIr"
      },
      "source": [
        "g1980 = nx.DiGraph()\n",
        "# Open a compressed file for reading in text mode\n",
        "with gzip.open(INPUT_TRADE_1980, \"rt\") as input_file:\n",
        "    # Create a CSV reader for a comma-delimited file with a header\n",
        "    reader = csv.DictReader(input_file, delimiter=',')\n",
        "    # Iterate through records, each record is a dictionary\n",
        "    for record in reader:\n",
        "        #Si amount no es void y hay algun valor, guardamos el valor en la variable amount, si no hay valor lo ponemos como 0.\n",
        "        if(len(record[\"amount\"])> 0): \n",
        "            amount = float(int(record[\"amount\"]))\n",
        "        else:\n",
        "            amount = 0.0 \n",
        "        #Pasamos el amount a millones, si el amount es superior a 1 millon entramos en el primer if\n",
        "        if((round(amount/1000000)) > 0):\n",
        "            #Si el pais 1 o el pais 2 pertenecen a OECD o a BRICS entramos en el if\n",
        "            if(record[\"country1\"] in OECD or record[\"country1\"] in BRICS):\n",
        "                if(record[\"country2\"] in OECD or record[\"country2\"] in BRICS) and record['country2'] != record['country1']:\n",
        "                    #Miramos si la operacion es un import o un export y añadimos el enlace al grafo.\n",
        "                    if(record[\"flow\"] == \"Import\"):\n",
        "                        g1980.add_edge(record[\"country2\"], record[\"country1\"], weight = round(amount/1000000))\n",
        "                    elif(record[\"flow\"] == \"Export\"):\n",
        "                        g1980.add_edge(record[\"country1\"], record[\"country2\"], weight = round(amount/1000000))"
      ],
      "execution_count": null,
      "outputs": []
    },
    {
      "cell_type": "code",
      "metadata": {
        "id": "ceMOVpM46xIr"
      },
      "source": [
        "#Repetimos el proceso anterior pero para los datos del 2013\n",
        "g2013 = nx.DiGraph()\n",
        "# Open a compressed file for reading in text mode\n",
        "with gzip.open(INPUT_TRADE_2013, \"rt\") as input_file:\n",
        "    # Create a CSV reader for a comma-delimited file with a header\n",
        "    reader = csv.DictReader(input_file, delimiter=',')\n",
        "    # Iterate through records, each record is a dictionary\n",
        "    for record in reader:\n",
        "        if(len(record[\"amount\"])> 0):\n",
        "            amount = float(int(record[\"amount\"]))\n",
        "        else:\n",
        "            amount = 0.0\n",
        "        if((round(amount/1000000)) > 0):\n",
        "            if(record[\"country1\"] in OECD or record[\"country1\"] in BRICS):\n",
        "                if(record[\"country2\"] in OECD or record[\"country2\"] in BRICS) and record['country2'] != record['country1']:\n",
        "                    if(record[\"flow\"] == \"Import\"):\n",
        "                        g2013.add_edge(record[\"country2\"], record[\"country1\"], weight = round(amount/1000000))\n",
        "                    elif(record[\"flow\"] == \"Export\"):\n",
        "                        g2013.add_edge(record[\"country1\"], record[\"country2\"], weight = round(amount/1000000))"
      ],
      "execution_count": null,
      "outputs": []
    },
    {
      "cell_type": "code",
      "metadata": {
        "id": "AOjcfYrc6xIs",
        "colab": {
          "base_uri": "https://localhost:8080/"
        },
        "outputId": "1f7d60b2-fbe1-4c05-87f1-8a2ad216ea47"
      },
      "source": [
        "# LEAVE AS-IS\n",
        "\n",
        "for exporter in [\"BRA\", \"ZAF\"]:\n",
        "    for importer in [\"FRA\", \"PRT\"]:\n",
        "        print(\"In 1980, {:s} ({:s}) exported to {:s} ({:s}) goods and services for {:,d} USD millions\".format(\n",
        "            exporter, id2name[exporter], importer, id2name[importer],\n",
        "               g1980.get_edge_data(exporter, importer)[\"weight\"]) )\n",
        "\n",
        "        print(\"by 2013, it exported {:,d} USD millions\".format(g2013.get_edge_data(exporter, importer)[\"weight\"]))\n",
        "        print(\"\")\n",
        "    "
      ],
      "execution_count": null,
      "outputs": [
        {
          "output_type": "stream",
          "name": "stdout",
          "text": [
            "In 1980, BRA (Brazil) exported to FRA (France) goods and services for 99 USD millions\n",
            "by 2013, it exported 372 USD millions\n",
            "\n",
            "In 1980, BRA (Brazil) exported to PRT (Portugal) goods and services for 13 USD millions\n",
            "by 2013, it exported 92 USD millions\n",
            "\n",
            "In 1980, ZAF (South Africa) exported to FRA (France) goods and services for 100 USD millions\n",
            "by 2013, it exported 89 USD millions\n",
            "\n",
            "In 1980, ZAF (South Africa) exported to PRT (Portugal) goods and services for 5 USD millions\n",
            "by 2013, it exported 12 USD millions\n",
            "\n"
          ]
        }
      ]
    },
    {
      "cell_type": "code",
      "metadata": {
        "id": "jGCo3TSS6xIt"
      },
      "source": [
        "def sum_weights(g, direction, weight_key):\n",
        "    dic = {}\n",
        "    for n in g.nodes():\n",
        "        dic[n] = 0 #Inicializamos el diccionario a 0\n",
        "    for u,v,d in g.edges(data = True):\n",
        "        w = d[weight_key]\n",
        "        if direction == \"in\":\n",
        "            dic[v] += w #Si es un import, añadimos el weight al nodo de destino\n",
        "        if direction == \"out\":\n",
        "            dic[u] += w #Si es un export, añadimos el weight al nodo de origen\n",
        "    return dic\n",
        "#Creamos los diccionarios correspondientes y llamamos a la función creada para evitar repetir codigo.\n",
        "exports1980 = {}\n",
        "imports1980 = {}\n",
        "exports2013 = {}\n",
        "imports2013 = {}\n",
        "exports1980 = sum_weights(g1980, \"out\", 'weight')\n",
        "imports1980 = sum_weights(g1980, \"in\", 'weight')\n",
        "exports2013 = sum_weights(g2013, \"out\",'weight')\n",
        "imports2013 = sum_weights(g2013, \"in\", 'weight')"
      ],
      "execution_count": null,
      "outputs": []
    },
    {
      "cell_type": "code",
      "metadata": {
        "id": "r7MyTW4O6xIu",
        "colab": {
          "base_uri": "https://localhost:8080/"
        },
        "outputId": "e3b85b32-4693-4a60-c222-aa75f66aceb3"
      },
      "source": [
        "# LEAVE AS-IS\n",
        "\n",
        "for country in ['FRA', 'CHN']:\n",
        "    print(\"{:s} exported {:,d} USD Million in 1980 and {:,d} USD Million in 2013 ({:.1f} times),\".format(\n",
        "        id2name[country], exports1980[country], exports2013[country], exports2013[country]/exports1980[country]\n",
        "    ))\n",
        "    print(\" and imported {:,d} USD Million in 1980 and {:,d} USD Million in 2013 ({:.1f} times).\".format(\n",
        "        imports1980[country], imports2013[country], imports2013[country]/imports1980[country]\n",
        "    ))\n",
        "    print()"
      ],
      "execution_count": null,
      "outputs": [
        {
          "output_type": "stream",
          "name": "stdout",
          "text": [
            "France exported 6,923 USD Million in 1980 and 39,326 USD Million in 2013 (5.7 times),\n",
            " and imported 7,951 USD Million in 1980 and 48,557 USD Million in 2013 (6.1 times).\n",
            "\n",
            "China (People's Republic of) exported 715 USD Million in 1980 and 100,868 USD Million in 2013 (141.1 times),\n",
            " and imported 1,100 USD Million in 1980 and 49,216 USD Million in 2013 (44.7 times).\n",
            "\n"
          ]
        }
      ]
    },
    {
      "cell_type": "code",
      "metadata": {
        "id": "j_l0BCOP6xIu"
      },
      "source": [
        "# LEAVE AS-IS\n",
        "\n",
        "sorted_countries = sorted(COUNTRIES)\n",
        "\n",
        "flowsData = {\n",
        "    'exp1980': [(exports1980[c] if c in exports1980 else 0) for c in sorted_countries],\n",
        "    'imp1980': [(imports1980[c] if c in imports1980 else 0) for c in sorted_countries],\n",
        "    'exp2013': [(exports2013[c] if c in exports2013 else 0) for c in sorted_countries], \n",
        "    'imp2013': [(imports2013[c] if c in imports2013 else 0) for c in sorted_countries],\n",
        "}\n",
        "\n",
        "flowsDF = pd.DataFrame(flowsData, index=sorted_countries)\n",
        "flowsDF"
      ],
      "execution_count": null,
      "outputs": []
    },
    {
      "cell_type": "markdown",
      "metadata": {
        "id": "x7A3PnEP6xIv"
      },
      "source": [
        "# 3. Draw the exports graphs"
      ]
    },
    {
      "cell_type": "code",
      "metadata": {
        "id": "47RqLMUA6xIv"
      },
      "source": [
        "#Usamos el applet que se nos ha dado para realizar la función plotGraph\n",
        "def plotGraph(g, exports):\n",
        "    NODE_SIZE_MULTIPLIER = 0.1\n",
        "    EDGE_WIDTH_MULTIPLIER = 0.4\n",
        "    node_sizes = []\n",
        "    for node in g.nodes():\n",
        "        node_sizes.append(exports[node] * NODE_SIZE_MULTIPLIER)\n",
        "    edge_widths = []\n",
        "    for u, v, d in g.edges(data=True):\n",
        "        weight = math.log(d['weight'])*EDGE_WIDTH_MULTIPLIER\n",
        "        edge_widths.append(weight)\n",
        "    pos = nx.spring_layout(g, iterations=100, weight=\"weight\")\n",
        "    nx.draw_networkx_nodes(g, pos, node_color=\"yellow\", node_size=node_sizes)\n",
        "    nx.draw_networkx_edges(g, pos, width=edge_widths, )\n",
        "    _ = nx.draw_networkx_labels(g, pos)"
      ],
      "execution_count": null,
      "outputs": []
    },
    {
      "cell_type": "code",
      "metadata": {
        "id": "F8XoFkA16xIw"
      },
      "source": [
        "plotGraph(g1980, exports1980)"
      ],
      "execution_count": null,
      "outputs": []
    },
    {
      "cell_type": "code",
      "metadata": {
        "id": "H--1QE047dym"
      },
      "source": [
        "plotGraph(g2013, exports2013)"
      ],
      "execution_count": null,
      "outputs": []
    },
    {
      "cell_type": "markdown",
      "metadata": {
        "id": "V29Ph-236xIw"
      },
      "source": [
        "Se puede observar como en el 1980 la mayoria de exportaciones eran entre todos los paises y solo luxemburgo tenia pocas exportaciones.\n",
        "En cambio en el segundo grafo vemos como todo esta mas globalizado y todos los nodos tienen alto grado, ya no hay ningun nodo que tenga poca conectividad con los demas, todos exportan a todos sitios"
      ]
    },
    {
      "cell_type": "markdown",
      "metadata": {
        "id": "zUuYp0u36xIw"
      },
      "source": [
        "# 4. Compute hubs and authorities"
      ]
    },
    {
      "cell_type": "code",
      "metadata": {
        "id": "G9r2SZCq6xIx"
      },
      "source": [
        "def normalize(d):\n",
        "  sum = 0\n",
        "  #Sumamos todos los valores del diccionario y luego dividimos cada uno entre la suma de todos los valores\n",
        "  for key in d:\n",
        "    sum += d[key]\n",
        "  for key in d:\n",
        "    d[key]/=sum\n",
        "  return d"
      ],
      "execution_count": null,
      "outputs": []
    },
    {
      "cell_type": "code",
      "metadata": {
        "colab": {
          "base_uri": "https://localhost:8080/"
        },
        "id": "R7Higo5r6xIx",
        "outputId": "77e94fc3-843f-458f-c0c1-03a487e93650"
      },
      "source": [
        "# LEAVE AS-IS\n",
        "\n",
        "print(normalize({\"a\": 60, \"b\": 120, \"c\":20}))"
      ],
      "execution_count": null,
      "outputs": [
        {
          "output_type": "stream",
          "name": "stdout",
          "text": [
            "{'a': 0.3, 'b': 0.6, 'c': 0.1}\n"
          ]
        }
      ]
    },
    {
      "cell_type": "code",
      "metadata": {
        "id": "HLIku4d__9Af"
      },
      "source": [
        "def hubs_authorities(g, weight_key=\"weight\"):\n",
        "  h = {}\n",
        "  a = {}\n",
        "  ITERATIONS = 100\n",
        "  for n in g.nodes():\n",
        "      h[n] = 1/g.number_of_nodes() #Inicializamos el valor de hub para todos los nodos como 1/N\n",
        "  for i in range(ITERATIONS):\n",
        "    for n in g.nodes():\n",
        "      a[n] = 0\n",
        "    for u, v, d in g.edges(data=True):\n",
        "      w = d[weight_key]\n",
        "      a[v] += (h[u]*w) #Creamos el authority sumando weight veces el valor de hub del nodo de origen segun corresponda para cada nodo\n",
        "    a = normalize(a) #Normalizamos a\n",
        "    for n in g.nodes():\n",
        "      h[n] = 0\n",
        "    for u, v, d in g.edges(data=True):\n",
        "      w = d[weight_key] \n",
        "      h[u] += (a[v]*w) #Creamos el hub sumando weight veces el valor de authority del nodo de destino segun corresponda para cada nodo\n",
        "    h = normalize(h) #Normalizamos h\n",
        "\n",
        "  return h,a"
      ],
      "execution_count": null,
      "outputs": []
    },
    {
      "cell_type": "code",
      "metadata": {
        "id": "LqJBVzqJ6xIx",
        "colab": {
          "base_uri": "https://localhost:8080/"
        },
        "outputId": "d7d26f74-2b42-457c-bb8f-d1b4d7cfe349"
      },
      "source": [
        "\n",
        "# LEAVE AS-IS\n",
        "# Execution should be very fast (a few seconds maximum)\n",
        "\n",
        "print(\"Computing for 1980\")\n",
        "(h1980,a1980) = hubs_authorities(g1980)\n",
        "\n",
        "print(\"Computing for 2013\")\n",
        "(h2013,a2013) = hubs_authorities(g2013)"
      ],
      "execution_count": null,
      "outputs": [
        {
          "output_type": "stream",
          "name": "stdout",
          "text": [
            "Computing for 1980\n",
            "Computing for 2013\n"
          ]
        }
      ]
    },
    {
      "cell_type": "code",
      "metadata": {
        "id": "KJHdS_9V6xIx"
      },
      "source": [
        "# LEAVE AS-IS\n",
        "\n",
        "flowsDF['h1980'] = pd.Series(h1980)\n",
        "flowsDF['a1980'] = pd.Series(a1980)\n",
        "flowsDF['h2013'] = pd.Series(h2013)\n",
        "flowsDF['a2013'] = pd.Series(a2013)\n",
        "\n",
        "flowsDF"
      ],
      "execution_count": null,
      "outputs": []
    },
    {
      "cell_type": "code",
      "metadata": {
        "id": "NAA2WAf8EyOa"
      },
      "source": [
        "print(\"ORDENADO DE MANERA DESCENDENTE SEGUN SU HUB SCORE\")\n",
        "display(flowsDF.sort_values('h2013', ascending=False).head(5)) #Imprimimos los 5 nodos con mas valor de hub de 2013\n",
        "print(\"ORDENADO DE MANERA DESCENDENTE SEGUN SUS EXPORTACIONES\")\n",
        "display(flowsDF.sort_values('exp2013', ascending=False).head(5)) #Imprimimos los 5 nodos con mas valor de exportacion de 2013"
      ],
      "execution_count": null,
      "outputs": []
    },
    {
      "cell_type": "markdown",
      "metadata": {
        "id": "5yb0wITfHiW6"
      },
      "source": [
        "En el caso de arriba segun su hub score podemos observar el valor que cada pais tiene como hub, es decir como el que sus exportaciones son de mayor peso o calidad por asi decirlo. En cambio en el de abajo solo miramos el numero de exportaciones que ha hecho sin tener en cuenta el peso o la importancia de estas."
      ]
    },
    {
      "cell_type": "code",
      "metadata": {
        "id": "I81u9YClJLLZ"
      },
      "source": [
        "print(\"ORDENADO DE MANERA DESCENDENTE SEGUN SU AUTHORITY SCORE\")\n",
        "display(flowsDF.sort_values('a2013', ascending=False).head(5)) #Imprimimos los 5 nodos con mas valor de authority de 1980\n",
        "print(\"ORDENADO DE MANERA DESCENDENTE SEGUN SUS IMPORTACIONES\")\n",
        "display(flowsDF.sort_values('imp2013', ascending=False).head(5)) #Imprimimos los 5 nodos con mas valor de importacion de 1980"
      ],
      "execution_count": null,
      "outputs": []
    },
    {
      "cell_type": "markdown",
      "metadata": {
        "id": "uET6Nm7_JXWY"
      },
      "source": [
        "Pasa lo mismo que en las dos ultimas listas, en el caso de arriba tenemos en cuenta la importancia o el valor de las importaciones. En el caso de abajo solo tenemos en cuenta quien mas ha importado."
      ]
    },
    {
      "cell_type": "markdown",
      "metadata": {
        "id": "2zavqni56xIz"
      },
      "source": [
        "# 5. Comparison of hub/export, authority/import scores"
      ]
    },
    {
      "cell_type": "code",
      "metadata": {
        "id": "SfSyhgWVJm_n"
      },
      "source": [
        "def plot_scatter(a,b, x_label, y_label):\n",
        "  # Create log-log plot\n",
        "  plt.figure(figsize=(20,10))\n",
        "  plt.loglog()\n",
        "  plt.xlabel(x_label, {'size': '22'})\n",
        "  plt.ylabel(y_label, {'size': '22'})\n",
        "  # Add a diagonal line\n",
        "  plt.plot([min(a.values()),max(a.values())], [min(b.values()),max(b.values())], '-.', lw=2)\n",
        "  # Do the scatter plot with texts\n",
        "  for country in set(a.keys()).intersection(set(b.keys())):\n",
        "    plt.text(a[country], b[country], country, {'size': '12'})"
      ],
      "execution_count": null,
      "outputs": []
    },
    {
      "cell_type": "code",
      "metadata": {
        "id": "3BnFj_uX6xIz"
      },
      "source": [
        "# LEAVE AS-IS: print plots for 2013\n",
        "\n",
        "plot_scatter( exports2013, h2013, \"Exports [Millions of USD]\", \"Hub score\" )\n",
        "plot_scatter( imports2013, a2013, \"Imports [Millions of USD]\", \"Authority score\" )"
      ],
      "execution_count": null,
      "outputs": []
    },
    {
      "cell_type": "markdown",
      "metadata": {
        "id": "whSGG0xuJlV9"
      },
      "source": [
        "A mas arriba este en el grafico de mayor importancia seran las exportaciones que se realizan y a mas a la derecha mas exportaciones habra hecho, por lo que todos los que esten por debajo de la linea seran exportaciones de baja calidad en relacion a sus exportaciones, los que esten por encima sus exportaciones seran de buena calidad aunque no hagan muchas, lo mismo pasa en el grafico de abajo pero con las importaciones y su calidad"
      ]
    },
    {
      "cell_type": "code",
      "metadata": {
        "id": "21Py4Xpx6xIz",
        "colab": {
          "base_uri": "https://localhost:8080/",
          "height": 1000
        },
        "outputId": "23628ea5-3595-4427-b8be-ba238e2556c7"
      },
      "source": [
        "# LEAVE AS-IS: print plots for 1980\n",
        "\n",
        "plot_scatter( exports1980, h1980, \"Exports [Millions of USD]\", \"Hub score\" )\n",
        "plot_scatter( imports1980, a1980, \"Imports [Millions of USD]\", \"Authority score\" )"
      ],
      "execution_count": null,
      "outputs": [
        {
          "output_type": "display_data",
          "data": {
            "image/png": "[encoded data removed]",
            "text/plain": [
              "<Figure size 1440x720 with 1 Axes>"
            ]
          },
          "metadata": {
            "needs_background": "light"
          }
        },
        {
          "output_type": "display_data",
          "data": {
            "image/png": "[encoded data removed]",
            "text/plain": [
              "<Figure size 1440x720 with 1 Axes>"
            ]
          },
          "metadata": {
            "needs_background": "light"
          }
        }
      ]
    },
    {
      "cell_type": "markdown",
      "metadata": {
        "id": "LrCVKD16KeXY"
      },
      "source": [
        "La principal diferencia que se observa es que la mayoria de los nodos estan por encima de la diagonal por lo que con el tiempo parece que o ha habido pocos nodos que hayan conseguido mejorar su calidad lo suficiente o que en general ha habido menor calidad de exportacion y/o importacion de cada pais."
      ]
    },
    {
      "cell_type": "markdown",
      "metadata": {
        "id": "JG9j7zGG6xI0"
      },
      "source": [
        "<font size=\"+2\" color=\"#003300\">I hereby declare that, except for the code provided by the course instructors, all of my code, report, and figures were produced by myself.</font>"
      ]
    }
  ]
}