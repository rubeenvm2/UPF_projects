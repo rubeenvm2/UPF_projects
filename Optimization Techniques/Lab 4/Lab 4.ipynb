{
 "cells": [
  {
   "cell_type": "code",
   "execution_count": 2,
   "id": "80758237",
   "metadata": {},
   "outputs": [],
   "source": [
    "import scipy.optimize\n",
    "import numpy as np\n",
    "import random\n",
    "import math\n",
    "import matplotlib.pyplot as plt"
   ]
  },
  {
   "cell_type": "code",
   "execution_count": 3,
   "id": "c921630e",
   "metadata": {},
   "outputs": [
    {
     "name": "stdout",
     "output_type": "stream",
     "text": [
      "Initial guess:  0\n",
      "Solution:  [ 1. -1.]\n",
      "Final objective:  -1.0\n"
     ]
    },
    {
     "data": {
      "image/png": "[encoded data removed]",
      "text/plain": [
       "<Figure size 432x288 with 1 Axes>"
      ]
     },
     "metadata": {
      "needs_background": "light"
     },
     "output_type": "display_data"
    },
    {
     "data": {
      "image/png": "[encoded data removed]",
      "text/plain": [
       "<Figure size 432x288 with 1 Axes>"
      ]
     },
     "metadata": {
      "needs_background": "light"
     },
     "output_type": "display_data"
    }
   ],
   "source": [
    "x = np.linspace(-4,6,100)\n",
    "y = np.linspace(-2,6,100)\n",
    "X,Y = np.meshgrid(x,y)\n",
    "c1 = -(X-1)**2 - (Y-2)**2 + 9\n",
    "c2 = X\n",
    "plt.contour(X,Y,c1, [0])\n",
    "plt.gca().set_aspect('equal')\n",
    "plt.plot(x,[0]*len(x))\n",
    "\n",
    "\n",
    "\n",
    "x = np.linspace(-10,10,100)\n",
    "y = np.linspace(-10,10,100)\n",
    "Z = np.zeros((len(x), len(y)))\n",
    "for i, y_value in enumerate(y):\n",
    "    for j, x_value in enumerate(x):\n",
    "        Z[i,j] = y_value\n",
    "        X,Y = np.meshgrid(x,y)\n",
    "fig, ax = plt.subplots()\n",
    "CS = plt.contour(X,Y,Z)\n",
    "plt.clabel(CS, inline = 1, fontsize = 10)\n",
    "\n",
    "\n",
    "\n",
    "\n",
    "\n",
    "\n",
    "\n",
    "\n",
    "\n",
    "\n",
    "\n",
    "        \n",
    "        \n",
    "def func(x):\n",
    "    return x[1]\n",
    "\n",
    "def cons1(x):\n",
    "    return -(x[0]-1)**2 - (x[1]-2)**2 + 9\n",
    "\n",
    "def cons2(x):\n",
    "    return -x[1]\n",
    "x0 = np.array([1,0])\n",
    "print('Initial guess: ', func(x0))\n",
    "cons = [{'type': 'ineq', 'fun': cons1},\n",
    "        {'type': 'ineq', 'fun': cons2}]\n",
    "solution = scipy.optimize.minimize(func, x0 ,method='SLSQP', constraints = cons)\n",
    "x1 = solution.x\n",
    "print('Solution: ', x1)\n",
    "print('Final objective: ', func(x1))"
   ]
  },
  {
   "cell_type": "code",
   "execution_count": 4,
   "id": "305b7029",
   "metadata": {},
   "outputs": [
    {
     "name": "stdout",
     "output_type": "stream",
     "text": [
      "[0.07046568 0.16463407 0.21603588 0.20359164]\n"
     ]
    },
    {
     "data": {
      "text/plain": [
       "     fun: 3.5306327131737043\n",
       "     jac: array([-2.41640508, -2.41761488, -2.41779271, -2.41745478])\n",
       " message: 'Optimization terminated successfully'\n",
       "    nfev: 43\n",
       "     nit: 8\n",
       "    njev: 8\n",
       "  status: 0\n",
       " success: True\n",
       "       x: array([0.34337222, 0.24899673, 0.1975645 , 0.21006655])"
      ]
     },
     "execution_count": 4,
     "metadata": {},
     "output_type": "execute_result"
    }
   ],
   "source": [
    "#CAS 1\n",
    "n = 4\n",
    "alpha = np.zeros(n)\n",
    "for i in range(n):\n",
    "    alpha[i] = random.uniform(0,0.25)\n",
    "print(alpha)\n",
    "def func(x):\n",
    "    n = 4\n",
    "    ret = 0\n",
    "    for i in range(n):\n",
    "        ret -= np.log(alpha[i]+x[i])\n",
    "    return ret\n",
    "\n",
    "def cons1(x):\n",
    "    n = 4\n",
    "    ones = np.ones(n)\n",
    "    return np.dot(ones.T, x)-1\n",
    "\n",
    "def cons2(x):\n",
    "    return x\n",
    "\n",
    "x0 = np.array([1,2,1,1])\n",
    "\n",
    "cons = [{'type': 'eq', 'fun': cons1},\n",
    "       {'type': 'ineq', 'fun': cons2}]\n",
    "\n",
    "scipy.optimize.minimize(func, x0 ,method='SLSQP', constraints = cons)"
   ]
  },
  {
   "cell_type": "code",
   "execution_count": 5,
   "id": "219c54e7",
   "metadata": {},
   "outputs": [
    {
     "data": {
      "text/plain": [
       "     fun: 3.6651629641111696\n",
       "     jac: array([-2.50032407, -2.49953982, -2.50032458, -2.4998115 ])\n",
       " message: 'Optimization terminated successfully'\n",
       "    nfev: 40\n",
       "     nit: 8\n",
       "    njev: 8\n",
       "  status: 0\n",
       " success: True\n",
       "       x: array([0.24994815, 0.25007363, 0.24994807, 0.25003015])"
      ]
     },
     "execution_count": 5,
     "metadata": {},
     "output_type": "execute_result"
    }
   ],
   "source": [
    "#CAS 2\n",
    "n = 4\n",
    "alpha = np.array([0.15, 0.15, 0.15, 0.15])\n",
    "def func(x):\n",
    "    n = 4\n",
    "    ret = 0\n",
    "    for i in range(n):\n",
    "        ret += np.log(alpha[i]+x[i])\n",
    "    return -ret\n",
    "\n",
    "def cons1(x):\n",
    "    n = 4\n",
    "    ones = np.ones(n)\n",
    "    return np.dot(ones.T, x)-1\n",
    "\n",
    "def cons2(x):\n",
    "    return x\n",
    "\n",
    "x0 = np.array([1,2,1,1])\n",
    "\n",
    "cons = [{'type': 'eq', 'fun': cons1},\n",
    "       {'type': 'ineq', 'fun': cons2}]\n",
    "\n",
    "\n",
    "scipy.optimize.minimize(func, x0 ,method='SLSQP', constraints = cons)"
   ]
  },
  {
   "cell_type": "code",
   "execution_count": 11,
   "id": "97eac097",
   "metadata": {},
   "outputs": [
    {
     "name": "stderr",
     "output_type": "stream",
     "text": [
      "<ipython-input-11-8a241bd12413>:6: RuntimeWarning: invalid value encountered in log\n",
      "  ret += x[i]*np.log(x[i])\n"
     ]
    },
    {
     "data": {
      "text/plain": [
       "     fun: -0.6365141682948129\n",
       "     jac: array([ 0.5945349 , -0.09861227])\n",
       " message: 'Optimization terminated successfully'\n",
       "    nfev: 10\n",
       "     nit: 3\n",
       "    njev: 3\n",
       "  status: 0\n",
       " success: True\n",
       "       x: array([0.66666667, 0.33333333])"
      ]
     },
     "execution_count": 11,
     "metadata": {},
     "output_type": "execute_result"
    }
   ],
   "source": [
    "n = 2\n",
    "\n",
    "def func(x):\n",
    "    ret = 0\n",
    "    for i in range(n):\n",
    "        ret += x[i]*np.log(x[i])\n",
    "    return ret\n",
    "\n",
    "def cons1(x):\n",
    "    ones = np.ones(n)\n",
    "    return np.dot(ones.T, x)-1\n",
    "\n",
    "def cons2(x):\n",
    "    A = np.matrix([[2,0],[0,3]])\n",
    "    b = np.array([7,1])\n",
    "    ret = np.array((-np.dot(A,x) + b))\n",
    "    return ret[0]\n",
    "\n",
    "cons = [{'type': 'eq', 'fun': cons1},\n",
    "       {'type': 'ineq', 'fun': cons2}]\n",
    "\n",
    "x0 = np.array([0.1,0.9])\n",
    "\n",
    "scipy.optimize.minimize(func, x0 ,method='SLSQP', constraints = cons)"
   ]
  },
  {
   "cell_type": "code",
   "execution_count": null,
   "id": "576d643a",
   "metadata": {},
   "outputs": [],
   "source": []
  }
 ],
 "metadata": {
  "kernelspec": {
   "display_name": "Python 3",
   "language": "python",
   "name": "python3"
  },
  "language_info": {
   "codemirror_mode": {
    "name": "ipython",
    "version": 3
   },
   "file_extension": ".py",
   "mimetype": "text/x-python",
   "name": "python",
   "nbconvert_exporter": "python",
   "pygments_lexer": "ipython3",
   "version": "3.8.8"
  }
 },
 "nbformat": 4,
 "nbformat_minor": 5
}
