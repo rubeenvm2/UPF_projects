{
 "cells": [
  {
   "cell_type": "markdown",
   "metadata": {},
   "source": [
    "# Practice Session 04: Basket analysis"
   ]
  },
  {
   "cell_type": "markdown",
   "metadata": {},
   "source": [
    "Author: <font color=\"blue\">Rubén Vera Martínez</font>\n",
    "\n",
    "E-mail: <font color=\"blue\">ruben.vera01@estudiant.upf.edu</font>\n",
    "\n",
    "Date: <font color=\"blue\">21/10/22</font>"
   ]
  },
  {
   "cell_type": "code",
   "execution_count": 1,
   "metadata": {},
   "outputs": [],
   "source": [
    "import numpy as np  \n",
    "import matplotlib.pyplot as plt  \n",
    "import pandas as pd  \n",
    "import csv\n",
    "import gzip\n",
    "from apyori import apriori"
   ]
  },
  {
   "cell_type": "markdown",
   "metadata": {},
   "source": [
    "## 0. The Apriori Algorithm in a nutshell\n",
    "\n",
    "There are three major components of Apriori algorithm, which we describe below using as an example the case where transactions are purchase histories.\n",
    "\n",
    "**Support**: the number of transactions containing a particular item divided by total number of transactions:\n",
    "\n",
    "   *Support(A) = (Transactions containing (A))/(Total Transactions)*\n",
    "\n",
    "**Confidence**: normally indicates the likelihood that an item B is also bought if item A is bought. It can be calculated by finding the number of transactions where A and B are bought together, divided by total number of transactions where A is bought:\n",
    "\n",
    "   *Confidence(A→B) = (Transactions containing both (A and B))/(Transactions containing A)*\n",
    "\n",
    "**Lift**: the increase in the ratio of sale of B when A is sold. Lift(A –> B) can be calculated by dividing Confidence(A -> B) by Support(B):\n",
    "\n",
    "   *Lift(A→B) = (Confidence (A→B))/(Support (B))*\n",
    "   \n",
    "A Lift of 1 means there is no association between products A and B. Lift greater than 1.0 means products A and B are more likely to be bought together. Lift less than 1.0 indicates two products are unlikely to be bought together.\n",
    "\n",
    "The Apriori algorithm first finds itemsets having the desired level of support, and then within those itemsets tries to derive rules having the desired confidence and lift.\n",
    "\n",
    "<font size=\"-1\" color=\"gray\">(Remove this cell when delivering.)</font>"
   ]
  },
  {
   "cell_type": "markdown",
   "metadata": {},
   "source": [
    "# 1. Playing with apyori"
   ]
  },
  {
   "cell_type": "code",
   "execution_count": 2,
   "metadata": {},
   "outputs": [],
   "source": [
    "# LEAVE AS-IS\n",
    "\n",
    "def print_apyori_output (association_results, info=False, info_key=False):\n",
    "    for relation_record in association_results:\n",
    "        itemset = list(relation_record.items)\n",
    "        \n",
    "        # Consider only itemsets of two elements\n",
    "        if len(itemset) > 1: \n",
    "        \n",
    "            print(\"Rules involving itemset %s\" % itemset)\n",
    "            support = relation_record.support\n",
    "\n",
    "            for rules in relation_record.ordered_statistics:\n",
    "                antecedent = list(rules.items_base)\n",
    "                consequent = list(rules.items_add)\n",
    "                \n",
    "                if info_key:\n",
    "                    antecedent = [info.loc[x][info_key] for x in antecedent]\n",
    "                    consequent = [info.loc[x][info_key] for x in consequent]\n",
    "                \n",
    "                confidence = rules.confidence\n",
    "                lift = rules.lift\n",
    "\n",
    "                print(\"%s => %s (support=%.4f, confidence=%.2f, lift=%.2f)\" %\n",
    "                      (antecedent, consequent, support, confidence, lift))\n",
    "            print()"
   ]
  },
  {
   "cell_type": "code",
   "execution_count": 3,
   "metadata": {},
   "outputs": [],
   "source": [
    "#Implement 20 transactions to see results of the apriori algorithm\n",
    "transactions = [\n",
    "    ['beer', 'chips', 'nuts', 'olives'],\n",
    "    ['beer', 'chips', 'olives'],\n",
    "    ['chips', 'nuts' ],\n",
    "    ['chips', 'olives'],\n",
    "    ['beer', 'nuts' ],\n",
    "    ['chips'],\n",
    "    ['nuts', 'olives'],\n",
    "    ['beer', 'nuts'],\n",
    "    ['beer', 'chips', 'olives'], \n",
    "    ['beer', 'nuts', 'chips'], \n",
    "    ['beer', 'nuts', 'olives', 'chips'], \n",
    "    ['beer', 'nuts', 'olives', 'coke'], \n",
    "    ['beer', 'nuts', 'coke'], \n",
    "    ['coke', 'olives'], \n",
    "    ['beer', 'olives'], \n",
    "    ['coke', 'nuts', 'olives'], \n",
    "    ['coke', 'nuts', 'olives'], \n",
    "    ['nuts', 'olives'], \n",
    "    ['coke'], \n",
    "    ['coke', 'olives'], \n",
    "\n",
    "]\n",
    "results = list(apriori(transactions, min_support=0.2, min_confidence=0.75, min_lift=1.0))"
   ]
  },
  {
   "cell_type": "code",
   "execution_count": 4,
   "metadata": {},
   "outputs": [
    {
     "name": "stdout",
     "output_type": "stream",
     "text": [
      "Rules involving itemset ['beer', 'chips', 'olives']\n",
      "['beer', 'chips'] => ['olives'] (support=0.2000, confidence=0.80, lift=1.23)\n",
      "['chips', 'olives'] => ['beer'] (support=0.2000, confidence=0.80, lift=1.60)\n",
      "\n",
      "support_chips_beer = 0.25\n",
      "support_olives = 0.65\n",
      "confidence_chips_beer_olives = 0.8\n",
      "lift_chips_beer = 1.2307692307692308\n",
      "\n",
      "support_olives_chips = 0.25\n",
      "support_beer = 0.5\n",
      "confidence_olives_chips_beer = 0.8\n",
      "lift_olives_chips = 1.6\n"
     ]
    }
   ],
   "source": [
    "print_apyori_output(results)#Print the results to see the rules having the desired support, confidence and lift.\n",
    "count_c_b = 0\n",
    "count_c_b_o = 0\n",
    "count_olives = 0\n",
    "for transaction in transactions:\n",
    "    if('beer' in transaction and 'chips' in transaction):\n",
    "        count_c_b+=1#Count appearances of chips and beer together in a transaction\n",
    "    if('beer' in transaction and 'chips' in transaction and 'olives' in transaction):\n",
    "        count_c_b_o+=1#Count appearances of chips beer and olives together in a transaction\n",
    "    if('olives' in transaction):\n",
    "        count_olives+=1 #Count appearances of olives together in a transaction\n",
    "\n",
    "#Apply formula to know support of the rule, confidence of the rule, and lift of the rule\n",
    "print(\"support_chips_beer =\", count_c_b/len(transactions))\n",
    "print(\"support_olives =\", count_olives/len(transactions))\n",
    "print(\"confidence_chips_beer_olives =\", count_c_b_o/count_c_b)\n",
    "print(\"lift_chips_beer =\", count_c_b_o/count_c_b/(count_olives/len(transactions)))\n",
    "\n",
    "count_o_c = 0\n",
    "count_o_c_b = 0\n",
    "count_beer = 0\n",
    "for transaction in transactions:\n",
    "    if('olives' in transaction and 'chips' in transaction):\n",
    "        count_o_c+=1 #Count appearances of olives and chips together in a transaction\n",
    "    if('olives' in transaction and 'chips' in transaction and 'beer' in transaction):\n",
    "        count_o_c_b+=1 #Count appearances of olives, chips and beer together in a transaction\n",
    "    if('beer' in transaction):\n",
    "        count_beer+=1 #Count appearances of beer together in a transaction\n",
    "\n",
    "#Apply formula to know support of the rule, confidence of the rule, and lift of the rule\n",
    "print(\"\\nsupport_olives_chips =\", count_o_c/len(transactions))\n",
    "print(\"support_beer =\", count_beer/len(transactions))\n",
    "print(\"confidence_olives_chips_beer =\", count_o_c_b/count_o_c)\n",
    "print(\"lift_olives_chips =\", count_o_c_b/count_o_c/(count_beer/len(transactions)))"
   ]
  },
  {
   "cell_type": "markdown",
   "metadata": {},
   "source": [
    "# 2. Load and prepare the shopping baskets"
   ]
  },
  {
   "cell_type": "code",
   "execution_count": 5,
   "metadata": {},
   "outputs": [
    {
     "data": {
      "text/html": [
       "<div>\n",
       "<style scoped>\n",
       "    .dataframe tbody tr th:only-of-type {\n",
       "        vertical-align: middle;\n",
       "    }\n",
       "\n",
       "    .dataframe tbody tr th {\n",
       "        vertical-align: top;\n",
       "    }\n",
       "\n",
       "    .dataframe thead th {\n",
       "        text-align: right;\n",
       "    }\n",
       "</style>\n",
       "<table border=\"1\" class=\"dataframe\">\n",
       "  <thead>\n",
       "    <tr style=\"text-align: right;\">\n",
       "      <th></th>\n",
       "      <th>product_name</th>\n",
       "      <th>department_id</th>\n",
       "    </tr>\n",
       "    <tr>\n",
       "      <th>product_id</th>\n",
       "      <th></th>\n",
       "      <th></th>\n",
       "    </tr>\n",
       "  </thead>\n",
       "  <tbody>\n",
       "    <tr>\n",
       "      <th>1</th>\n",
       "      <td>Chocolate Sandwich Cookies</td>\n",
       "      <td>19</td>\n",
       "    </tr>\n",
       "    <tr>\n",
       "      <th>2</th>\n",
       "      <td>All-Seasons Salt</td>\n",
       "      <td>13</td>\n",
       "    </tr>\n",
       "    <tr>\n",
       "      <th>3</th>\n",
       "      <td>Robust Golden Unsweetened Oolong Tea</td>\n",
       "      <td>7</td>\n",
       "    </tr>\n",
       "    <tr>\n",
       "      <th>4</th>\n",
       "      <td>Smart Ones Classic Favorites Mini Rigatoni Wit...</td>\n",
       "      <td>1</td>\n",
       "    </tr>\n",
       "    <tr>\n",
       "      <th>5</th>\n",
       "      <td>Green Chile Anytime Sauce</td>\n",
       "      <td>13</td>\n",
       "    </tr>\n",
       "    <tr>\n",
       "      <th>...</th>\n",
       "      <td>...</td>\n",
       "      <td>...</td>\n",
       "    </tr>\n",
       "    <tr>\n",
       "      <th>96</th>\n",
       "      <td>Sprinklez Confetti Fun Organic Toppings</td>\n",
       "      <td>13</td>\n",
       "    </tr>\n",
       "    <tr>\n",
       "      <th>97</th>\n",
       "      <td>Organic Chamomile Lemon Tea</td>\n",
       "      <td>7</td>\n",
       "    </tr>\n",
       "    <tr>\n",
       "      <th>98</th>\n",
       "      <td>2% Yellow American Cheese</td>\n",
       "      <td>16</td>\n",
       "    </tr>\n",
       "    <tr>\n",
       "      <th>99</th>\n",
       "      <td>Local Living Butter Lettuce</td>\n",
       "      <td>4</td>\n",
       "    </tr>\n",
       "    <tr>\n",
       "      <th>100</th>\n",
       "      <td>Peanut Butter &amp; Strawberry Jam Sandwich</td>\n",
       "      <td>1</td>\n",
       "    </tr>\n",
       "  </tbody>\n",
       "</table>\n",
       "<p>100 rows × 2 columns</p>\n",
       "</div>"
      ],
      "text/plain": [
       "                                                 product_name  department_id\n",
       "product_id                                                                  \n",
       "1                                  Chocolate Sandwich Cookies             19\n",
       "2                                            All-Seasons Salt             13\n",
       "3                        Robust Golden Unsweetened Oolong Tea              7\n",
       "4           Smart Ones Classic Favorites Mini Rigatoni Wit...              1\n",
       "5                                   Green Chile Anytime Sauce             13\n",
       "...                                                       ...            ...\n",
       "96                    Sprinklez Confetti Fun Organic Toppings             13\n",
       "97                                Organic Chamomile Lemon Tea              7\n",
       "98                                  2% Yellow American Cheese             16\n",
       "99                                Local Living Butter Lettuce              4\n",
       "100                   Peanut Butter & Strawberry Jam Sandwich              1\n",
       "\n",
       "[100 rows x 2 columns]"
      ]
     },
     "execution_count": 5,
     "metadata": {},
     "output_type": "execute_result"
    }
   ],
   "source": [
    "# LEAVE AS-IS\n",
    "\n",
    "# File names\n",
    "INPUT_PRODUCTS = \"instacart-products.csv\"\n",
    "INPUT_TRANSACTIONS = \"instacart-transactions.csv.gz\"\n",
    "\n",
    "# Read into a dataframe\n",
    "products = pd.read_csv(INPUT_PRODUCTS, delimiter=\",\")\n",
    "\n",
    "# Set product_id as index, and drop column aisle_id\n",
    "products = products.set_index('product_id').drop(columns=['aisle_id'])\n",
    "\n",
    "products.head(100)"
   ]
  },
  {
   "cell_type": "markdown",
   "metadata": {},
   "source": [
    "## 2.1. Select by department"
   ]
  },
  {
   "cell_type": "code",
   "execution_count": 6,
   "metadata": {},
   "outputs": [],
   "source": [
    "# LEAVE AS-IS\n",
    "\n",
    "DEPT_BAKERY = 3\n",
    "DEPT_VEGGIES = 4\n",
    "DEPT_ALCOHOL = 5\n",
    "DEPT_WORLD = 6\n",
    "DEPT_DRINKS = 7\n",
    "DEPT_PETS = 8\n",
    "DEPT_PHARMACY = 11\n",
    "DEPT_CLEANING = 17\n",
    "DEPT_BABIES = 18"
   ]
  },
  {
   "cell_type": "code",
   "execution_count": 7,
   "metadata": {},
   "outputs": [],
   "source": [
    "def select_from_departments(products, product_id, department_id):\n",
    "    product_id_belonging = []\n",
    "    #Should return product_id that belong to one of the departments\n",
    "    department_belonging = products.loc[product_id].department_id\n",
    "    for product in product_id:#Iterate over all products demanded to select if they are on some department\n",
    "        if(department_belonging[product] in department_id):#check if the department of the product it's one of the desired departments\n",
    "            product_id_belonging.append(product)#Add to the output\n",
    "    #If no products belong to any department return empty list because any product will be added to the output\n",
    "    return product_id_belonging"
   ]
  },
  {
   "cell_type": "code",
   "execution_count": 8,
   "metadata": {
    "scrolled": true
   },
   "outputs": [
    {
     "name": "stdout",
     "output_type": "stream",
     "text": [
      "\n",
      "Test Case:\n",
      " [21, 26, 45, 54, 57, 71, 111, 112] \n",
      "\n",
      "Input products:\n",
      "21 Small & Medium Dental Dog Treats (dept  8 )\n",
      "26 Fancy Feast Trout Feast Flaked Wet Cat Food (dept  8 )\n",
      "45 European Cucumber (dept  4 )\n",
      "54 24/7 Performance Cat Litter (dept  8 )\n",
      "57 Flat Toothpicks (dept  17 )\n",
      "71 Ultra 7 Inch Polypropylene Traditional Plates (dept  17 )\n",
      "111 Fabric Softener, Geranium Scent (dept  17 )\n",
      "112 Hot Tomatillo Salsa (dept  13 )\n",
      "\n",
      "Selected products from departments [8, 17] :\n",
      "21 Small & Medium Dental Dog Treats (dept  8 )\n",
      "26 Fancy Feast Trout Feast Flaked Wet Cat Food (dept  8 )\n",
      "54 24/7 Performance Cat Litter (dept  8 )\n",
      "57 Flat Toothpicks (dept  17 )\n",
      "71 Ultra 7 Inch Polypropylene Traditional Plates (dept  17 )\n",
      "111 Fabric Softener, Geranium Scent (dept  17 )\n",
      "\n",
      "Test Case:\n",
      " [100, 200, 300, 400, 500, 600, 700, 800] \n",
      "\n",
      "Input products:\n",
      "100 Peanut Butter & Strawberry Jam Sandwich (dept  1 )\n",
      "200 Radiant Pantiliners Regular Wrapped Unscented (dept  11 )\n",
      "300 Organic Enriched Unbleached White Flour (dept  13 )\n",
      "400 Grass-Fed Yogurt Blueberry Cardamom (dept  16 )\n",
      "500 Non-Scratch Scrub Sponges (dept  17 )\n",
      "600 Thick & Zesty Spaghetti Sauce Mix (dept  13 )\n",
      "700 Jet Fuel Dark Roast Whole Bean Coffee (dept  7 )\n",
      "800 Organic Classic Caraway Kraut (dept  13 )\n",
      "\n",
      "Selected products from departments [8, 17, 13] :\n",
      "300 Organic Enriched Unbleached White Flour (dept  13 )\n",
      "500 Non-Scratch Scrub Sponges (dept  17 )\n",
      "600 Thick & Zesty Spaghetti Sauce Mix (dept  13 )\n",
      "800 Organic Classic Caraway Kraut (dept  13 )\n",
      "\n",
      "Test Case:\n",
      " [40, 50, 60, 70, 80, 90, 100, 110] \n",
      "\n",
      "Input products:\n",
      "40 Beef Hot Links Beef Smoked Sausage With Chile Peppers (dept  12 )\n",
      "50 Pumpkin Muffin Mix (dept  13 )\n",
      "60 Cheesy Creations Roasted Garlic Parmesan Sauce (dept  9 )\n",
      "70 Sweet Cooking Rice Seasoning (dept  6 )\n",
      "80 French  Tarragon Wine Vinegar (dept  13 )\n",
      "90 Smorz Cereal (dept  14 )\n",
      "100 Peanut Butter & Strawberry Jam Sandwich (dept  1 )\n",
      "110 Uncured Turkey Bologna (dept  21 )\n",
      "\n",
      "Selected products from departments [6, 3, 13] :\n",
      "50 Pumpkin Muffin Mix (dept  13 )\n",
      "70 Sweet Cooking Rice Seasoning (dept  6 )\n",
      "80 French  Tarragon Wine Vinegar (dept  13 )\n"
     ]
    }
   ],
   "source": [
    "#Testing whether the function works how it should or not\n",
    "\n",
    "product_id = [21, 26, 45, 54, 57, 71, 111, 112]\n",
    "department_id = [DEPT_PETS, DEPT_CLEANING]\n",
    "print(\"\\nTest Case:\\n\", product_id, \"\\n\")\n",
    "print(\"Input products:\")\n",
    "for product in product_id:\n",
    "    print(product, products.loc[product].product_name, \"(dept \", products.loc[product].department_id, \")\")\n",
    "products_selected = select_from_departments(products, product_id, department_id)\n",
    "print(\"\\nSelected products from departments\", department_id, \":\")\n",
    "for product in products_selected:\n",
    "    print(product, products.loc[product].product_name, \"(dept \", products.loc[product].department_id, \")\")\n",
    "    \n",
    "product_id = [100, 200, 300, 400, 500, 600, 700, 800]\n",
    "department_id = [DEPT_PETS, DEPT_CLEANING, 13]\n",
    "print(\"\\nTest Case:\\n\", product_id, \"\\n\")\n",
    "print(\"Input products:\")\n",
    "for product in product_id:\n",
    "    print(product, products.loc[product].product_name, \"(dept \", products.loc[product].department_id, \")\")\n",
    "products_selected = select_from_departments(products, product_id, department_id)\n",
    "print(\"\\nSelected products from departments\", department_id, \":\")\n",
    "for product in products_selected:\n",
    "    print(product, products.loc[product].product_name, \"(dept \", products.loc[product].department_id, \")\")\n",
    "    \n",
    "    \n",
    "product_id = [40, 50, 60, 70, 80, 90, 100, 110]\n",
    "department_id = [DEPT_WORLD, DEPT_BAKERY, 13]\n",
    "print(\"\\nTest Case:\\n\", product_id, \"\\n\")\n",
    "print(\"Input products:\")\n",
    "for product in product_id:\n",
    "    print(product, products.loc[product].product_name, \"(dept \", products.loc[product].department_id, \")\")\n",
    "products_selected = select_from_departments(products, product_id, department_id)\n",
    "print(\"\\nSelected products from departments\", department_id, \":\")\n",
    "for product in products_selected:\n",
    "    print(product, products.loc[product].product_name, \"(dept \", products.loc[product].department_id, \")\")\n"
   ]
  },
  {
   "cell_type": "markdown",
   "metadata": {},
   "source": [
    "## 2.2. Read and filter transactions"
   ]
  },
  {
   "cell_type": "code",
   "execution_count": 9,
   "metadata": {},
   "outputs": [],
   "source": [
    "# Open a compressed file\n",
    "def keep_items_of_department(departments): \n",
    "    with gzip.open(INPUT_TRANSACTIONS, \"rt\") as inputfile:\n",
    "\n",
    "        # Create a CSV reader\n",
    "        reader = csv.reader(inputfile, delimiter=\",\")\n",
    "        transactions = []\n",
    "        i = 0\n",
    "        # Iterate through the CSV file\n",
    "        for row in reader:\n",
    "            # Convert to integers\n",
    "            items = [int(x) for x in row]\n",
    "            #Select for each row if some of the products of the row its from the departments we desire\n",
    "            temp = select_from_departments(products, items, departments)\n",
    "            if(temp != []): #If exist some product of the department we desire we add it to the output and summarize to counter to break at 5000 readings\n",
    "                i+=1\n",
    "                transactions.append(temp)\n",
    "                if(i%1000 == 0):\n",
    "                    print(\"Reading transaction:\", i)\n",
    "                if(i > 5000):\n",
    "                    break\n",
    "                \n",
    "    return transactions"
   ]
  },
  {
   "cell_type": "markdown",
   "metadata": {},
   "source": [
    "## 2.3. Extract association rules and comment on them (DEPT_CLEANING)"
   ]
  },
  {
   "cell_type": "code",
   "execution_count": 10,
   "metadata": {},
   "outputs": [
    {
     "name": "stdout",
     "output_type": "stream",
     "text": [
      "Reading transaction: 1000\n",
      "Reading transaction: 2000\n",
      "Reading transaction: 3000\n",
      "Reading transaction: 4000\n",
      "Reading transaction: 5000\n",
      "Rules involving itemset [47865, 5047]\n",
      "['Easy Open TabsBags'] => ['Quart Storage Bags'] (support=0.0012, confidence=0.23, lift=38.47)\n",
      "\n",
      "Rules involving itemset [37357, 8021]\n",
      "['Natural Laundry Detergent, Free & Clear 33'] => ['100% Recycled Paper Towels'] (support=0.0010, confidence=0.21, lift=3.84)\n",
      "\n",
      "Rules involving itemset [31801, 21653]\n",
      "['Compostable Forks'] => ['9 Inch Plates'] (support=0.0010, confidence=0.25, lift=35.72)\n",
      "\n",
      "Rules involving itemset [41387, 21653]\n",
      "['Compostable Forks'] => ['Plastic Spoons'] (support=0.0016, confidence=0.40, lift=90.93)\n",
      "['Plastic Spoons'] => ['Compostable Forks'] (support=0.0016, confidence=0.36, lift=90.93)\n",
      "\n"
     ]
    }
   ],
   "source": [
    "#Check results of reading 5000 transactions, with support, confidence, and lift desired.\n",
    "results = list(apriori(keep_items_of_department([DEPT_CLEANING]), min_support=0.0008, min_confidence=0.2, min_lift=1.0))\n",
    "print_apyori_output(results, products, 'product_name')"
   ]
  },
  {
   "cell_type": "markdown",
   "metadata": {},
   "source": [
    "Firstly, the rule that I would reccomend would be the one with most confidence, which is the rule where if you buy compostable forks, you should buy plastic spoons, because they are usually bought together. So, I would add to the application a recommendation of compostable forks if you are buying plastic spoons and vice versa because 36% confidence is enough to make a recommendation based on my criteria. My criteria, to clarify, would be to recommend all rules that have more than 30% confidence and a lift above 30. Because of the 90.93 lift of the last rule in the output, I would definitely recommend this over any other rule.\n",
    "\n",
    "On the code cell I put min_confidence 0.2 and min_lift 1 to see all results even that my criteria it's not this one."
   ]
  },
  {
   "cell_type": "markdown",
   "metadata": {},
   "source": [
    "## 2.4. Extract association rules and comment on them (other departments)"
   ]
  },
  {
   "cell_type": "code",
   "execution_count": 11,
   "metadata": {},
   "outputs": [
    {
     "name": "stdout",
     "output_type": "stream",
     "text": [
      "Reading transaction: 1000\n",
      "Reading transaction: 2000\n",
      "Reading transaction: 3000\n",
      "Reading transaction: 4000\n",
      "Reading transaction: 5000\n",
      "Rules involving itemset [3020, 34134]\n",
      "['Broccoli & Apple Stage 2 Baby Food'] => ['Spinach Peas & Pear Stage 2 Baby Food'] (support=0.0024, confidence=0.34, lift=46.34)\n",
      "['Spinach Peas & Pear Stage 2 Baby Food'] => ['Broccoli & Apple Stage 2 Baby Food'] (support=0.0024, confidence=0.32, lift=46.34)\n",
      "\n",
      "Rules involving itemset [47888, 43875]\n",
      "['Baby Food Stage 2 Blueberry Pear & Purple Carrot'] => ['Apple and Carrot Stage 2 Baby Food'] (support=0.0022, confidence=0.22, lift=41.58)\n",
      "['Apple and Carrot Stage 2 Baby Food'] => ['Baby Food Stage 2 Blueberry Pear & Purple Carrot'] (support=0.0022, confidence=0.41, lift=41.58)\n",
      "\n"
     ]
    }
   ],
   "source": [
    "results = list(apriori(keep_items_of_department([DEPT_BABIES, DEPT_BAKERY]), min_support=0.002, min_confidence=0.2, min_lift=1.0))\n",
    "print_apyori_output(results, products, 'product_name')"
   ]
  },
  {
   "cell_type": "markdown",
   "metadata": {},
   "source": [
    "I've chosen to keep items of babies department and bakery department.\n",
    "Looking at the output rules, using criteria mentioned above, I'd consider to recomment 3 of the 4 output rules.\n",
    "The recommendations would be as follows:\n",
    "- If purchasing Broccoli & Apple Stage 2 baby food, I'd recommend Spinach Peas & Pear Stage 2 baby Food due to >30% confidence and >30 lift.\n",
    "- Same recommendation but in reverse for the same reasons.\n",
    "- Finally, if you buy Apple and Carrot Stage 2 Baby Food I'd recommend Baby Food Stage 2 Blueberry Pear & Purple Carrot."
   ]
  },
  {
   "cell_type": "markdown",
   "metadata": {},
   "source": [
    "<font size=\"+2\" color=\"#003300\">I hereby declare that, except for the code provided by the course instructors, all of my code, report, and figures were produced by myself.</font>"
   ]
  }
 ],
 "metadata": {
  "kernelspec": {
   "display_name": "Python 3",
   "language": "python",
   "name": "python3"
  },
  "language_info": {
   "codemirror_mode": {
    "name": "ipython",
    "version": 3
   },
   "file_extension": ".py",
   "mimetype": "text/x-python",
   "name": "python",
   "nbconvert_exporter": "python",
   "pygments_lexer": "ipython3",
   "version": "3.8.8"
  }
 },
 "nbformat": 4,
 "nbformat_minor": 2
}
