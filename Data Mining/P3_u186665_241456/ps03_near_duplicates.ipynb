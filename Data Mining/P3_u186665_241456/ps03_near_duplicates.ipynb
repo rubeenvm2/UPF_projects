{
 "cells": [
  {
   "cell_type": "markdown",
   "metadata": {},
   "source": [
    "# Practice Session 03: Find near-duplicates using shingling"
   ]
  },
  {
   "cell_type": "markdown",
   "metadata": {},
   "source": [
    "Author: <font color=\"blue\">Rubén Vera Martínez</font>\n",
    "\n",
    "E-mail: <font color=\"blue\">ruben.vera01@estudiant.upf.edu</font>\n",
    "\n",
    "Date: <font color=\"blue\">14/10/22</font>"
   ]
  },
  {
   "cell_type": "code",
   "execution_count": 35,
   "metadata": {},
   "outputs": [],
   "source": [
    "import io\n",
    "import json\n",
    "import gzip\n",
    "import re\n",
    "import random\n",
    "import numpy as np\n",
    "import matplotlib.pyplot as plt\n",
    "from timeit import default_timer as timer\n",
    "import datetime"
   ]
  },
  {
   "cell_type": "code",
   "execution_count": 36,
   "metadata": {},
   "outputs": [
    {
     "name": "stdout",
     "output_type": "stream",
     "text": [
      "Read 10000 documents\n"
     ]
    }
   ],
   "source": [
    "# Input file\n",
    "INPUT_FILENAME = \"CovidLockdownCatalonia.json.gz\"\n",
    "\n",
    "# Array for storing messages\n",
    "messages = []\n",
    "MAX_MESSAGES = 10000\n",
    "\n",
    "with gzip.open(INPUT_FILENAME, \"rt\", encoding=\"utf-8\") as input_file:\n",
    "    \n",
    "    messages_read = 0\n",
    "    for line in input_file:\n",
    "            \n",
    "        # Read message\n",
    "        tweet = json.loads(line)\n",
    "\n",
    "        # Keep only messages in Catalan\n",
    "        if tweet[\"lang\"] == \"ca\":\n",
    "            \n",
    "            messages_read += 1\n",
    "            \n",
    "            if messages_read <= MAX_MESSAGES:\n",
    "                author = tweet[\"user\"][\"screen_name\"]\n",
    "                message = tweet[\"full_text\"]\n",
    "                messages.append(message)\n",
    "\n",
    "print(\"Read %d documents\" % len(messages))"
   ]
  },
  {
   "cell_type": "markdown",
   "metadata": {},
   "source": [
    "# 1. Auxiliary functions"
   ]
  },
  {
   "cell_type": "code",
   "execution_count": 37,
   "metadata": {},
   "outputs": [],
   "source": [
    "def jaccard_similarity(set1, set2):\n",
    "    #First, we declare set to what enters to function to avoid errors.\n",
    "    set1 = set(set1)\n",
    "    set2 = set(set2)\n",
    "    #Now, apply the formula intersection/union using the functions .intersection and .union\n",
    "    nominator = set1.intersection(set2)\n",
    "    denominator = set1.union(set2)\n",
    "    #To avoid issues of type denominator = 0, if denominator = 0 we just return 0. Otherwise, we'll return the value of\n",
    "    #Similarity\n",
    "    if(len(denominator) == 0):\n",
    "        return 0\n",
    "    similarity = len(nominator)/len(denominator)\n",
    "    return similarity"
   ]
  },
  {
   "cell_type": "code",
   "execution_count": 38,
   "metadata": {},
   "outputs": [
    {
     "name": "stdout",
     "output_type": "stream",
     "text": [
      "0.6666666666666666\n",
      "0.75\n",
      "1.0\n",
      "0\n"
     ]
    }
   ],
   "source": [
    "#We do 4 tests expecting jaccard_similarity 0.6666, 0.75, 1 and 0 respectively to see if function is working correctly.\n",
    "A = {1, 2, 4, 8, 7}\n",
    "B = {1, 2, 4, 8, 9}\n",
    "print(jaccard_similarity(A,B))\n",
    "A = {1, 2, 3, 4}\n",
    "B = {1, 2, 3}\n",
    "print(jaccard_similarity(A,B))\n",
    "A = {1, 2, 4, 8, 9}\n",
    "B = {1, 2, 4, 8, 9}\n",
    "print(jaccard_similarity(A,B))\n",
    "A = set()\n",
    "B = set()\n",
    "print(jaccard_similarity(A,B))\n"
   ]
  },
  {
   "cell_type": "code",
   "execution_count": 39,
   "metadata": {},
   "outputs": [],
   "source": [
    "def clean(text):\n",
    "    #Using \"re\" library, we clean the text as follows:\n",
    "    #First, delete the RT that is showed when you Retweet something, to just get the message\n",
    "    text = re.sub('RT ', '', text)\n",
    "    #Transform all upercase letters to lowercase.\n",
    "    text = text.lower()\n",
    "    #Romanizing text avoiding accent marks and other letters not allowed.\n",
    "    text = re.sub('Ñ', 'n', text)\n",
    "    text = re.sub('ñ', 'n', text)\n",
    "    text = re.sub('é', 'e', text)\n",
    "    text = re.sub('è', 'e', text)\n",
    "    text = re.sub('ò', 'o', text)\n",
    "    text = re.sub('ú', 'u', text)\n",
    "    text = re.sub('ç', 'c', text)\n",
    "    text = re.sub('í', 'i', text)\n",
    "    text = re.sub('ó', 'o', text)\n",
    "    text = re.sub('à', 'a', text)\n",
    "    text = re.sub('l·l', 'll', text)\n",
    "    #Delete URLs, we delete all that have https and so on till a space\n",
    "    text = re.sub(r'\\S*https?:\\S*', '', text)\n",
    "    #Remove spaces at first and at the end of a message with strip function\n",
    "    text.strip()\n",
    "    #Remove all that are not letters, numbers or spaces\n",
    "    text = re.sub(r'[^A-Za-z0-9 ]+', '', text)\n",
    "    #Transform more than 1 space to just 1.\n",
    "    text = re.sub(\" +\", \" \", text)\n",
    "    return text"
   ]
  },
  {
   "cell_type": "code",
   "execution_count": 40,
   "metadata": {},
   "outputs": [
    {
     "name": "stdout",
     "output_type": "stream",
     "text": [
      "hi\n",
      " hinnoqll \n",
      " hi\n",
      "a al\n",
      "a hi\n"
     ]
    }
   ],
   "source": [
    "#We do some tests to know whether the function is working correctly or not.\n",
    "text1 = \"RT hi\"\n",
    "text1 = clean(text1)\n",
    "print(text1)\n",
    "\n",
    "text2 = \" hiñÑó´ql·l \"\n",
    "text2 = clean(text2)\n",
    "print(text2)\n",
    "\n",
    "text3 = \"https://en.wikipedia.org/wiki/Romanization#Transcription hi\"\n",
    "text3 = clean(text3)\n",
    "print(text3)\n",
    "\n",
    "text4 = \"A & A&&l\"\n",
    "text4 = clean(text4)\n",
    "print(text4)\n",
    "\n",
    "text5 = \"a                    hi\"\n",
    "text5 = clean(text5)\n",
    "print(text5)"
   ]
  },
  {
   "cell_type": "markdown",
   "metadata": {},
   "source": [
    "# 2. Implement an n-gram extractor"
   ]
  },
  {
   "cell_type": "code",
   "execution_count": 41,
   "metadata": {},
   "outputs": [],
   "source": [
    "MIN_TOKEN_LENGTH = 2\n",
    "\n",
    "def ngrams(text, size):\n",
    "    tokens = clean(text).split()\n",
    "    ngrams = []\n",
    "    temp = []\n",
    "    for i in range(0, len(tokens)):\n",
    "        #We check all possible tokens and if they are words of more than MIN_TOKEN_LENGTH\n",
    "        if(len(tokens[i]) >= MIN_TOKEN_LENGTH):\n",
    "                #If they are, add them to a temporal list\n",
    "                temp.append(tokens[i])\n",
    "    \n",
    "    for j in range(len(temp)-size+1):\n",
    "        #We convert all accepted words to ngrams of size = size so,\n",
    "        #we get the j:j+size words and put them as an ngram which means, separated by a space\n",
    "        ngram = ' '.join(temp[j:j+size])\n",
    "        #once we get the ngram we add it to ngrams list\n",
    "        ngrams.append(ngram)\n",
    "    return ngrams"
   ]
  },
  {
   "cell_type": "code",
   "execution_count": 42,
   "metadata": {},
   "outputs": [
    {
     "name": "stdout",
     "output_type": "stream",
     "text": [
      "RT @diariARA: Comerciants xinesos donen mascaretes i gel antisèptic a Badalona per lluitar contra el coronavirus https://t.co/ybYXFxphIu\n",
      "['diariara comerciants', 'comerciants xinesos', 'xinesos donen', 'donen mascaretes', 'mascaretes gel', 'gel antiseptic', 'antiseptic badalona', 'badalona per', 'per lluitar', 'lluitar contra', 'contra el', 'el coronavirus']\n"
     ]
    }
   ],
   "source": [
    "print(messages[9780])\n",
    "print(ngrams(messages[9780], 2))"
   ]
  },
  {
   "cell_type": "markdown",
   "metadata": {},
   "source": [
    "# 3. Estimation for brute force method"
   ]
  },
  {
   "cell_type": "code",
   "execution_count": 43,
   "metadata": {},
   "outputs": [],
   "source": [
    "# LEAVE AS-IS\n",
    "\n",
    "def time_brute_force_similarities(messages, limit, ngram_size):\n",
    "    if limit > len(messages):\n",
    "        raise ValueError(\"Limit should be less than or equal than the number of messages\")\n",
    "        \n",
    "    # Start a timer\n",
    "    start = timer()\n",
    "\n",
    "    # Iterate through document identifiers\n",
    "    for docid1 in range(np.min([len(messages), limit])):\n",
    "\n",
    "        # Clean document 1 and extract ngrams\n",
    "        doc1 = clean(messages[docid1])\n",
    "        ngrams1 = ngrams(doc1, ngram_size)\n",
    "\n",
    "        # Iterate through document identifiers larger than doc2\n",
    "        for docid2 in range(docid1+1, np.min([len(messages), limit])):\n",
    "                         \n",
    "            # Clean document 2 and extract ngrams\n",
    "            doc2 = clean(messages[docid2])\n",
    "            ngrams2 = ngrams(doc2, ngram_size)\n",
    "\n",
    "            # Compute similarity\n",
    "            similarity = jaccard_similarity(ngrams1, ngrams2)\n",
    "\n",
    "    end = timer()\n",
    "    return(end - start)"
   ]
  },
  {
   "cell_type": "code",
   "execution_count": 81,
   "metadata": {},
   "outputs": [
    {
     "data": {
      "image/png": "[encoded data removed]",
      "text/plain": [
       "<Figure size 432x288 with 1 Axes>"
      ]
     },
     "metadata": {
      "needs_background": "light"
     },
     "output_type": "display_data"
    }
   ],
   "source": [
    "temp = []\n",
    "#We calculate time to check messages with the function\n",
    "for i in range(1,2001,150):\n",
    "    temp.append(time_brute_force_similarities(messages, i, 3))\n",
    "\n",
    "#Define values of axis\n",
    "y = temp\n",
    "x = range(1,2001,150)\n",
    "\n",
    "plt.plot(x,y)\n",
    "#Define the labels of the axis\n",
    "plt.xlabel(\"Number of messages to check\")\n",
    "plt.ylabel(\"Time it takes to check that messages in seconds\")\n",
    "plt.show()"
   ]
  },
  {
   "cell_type": "markdown",
   "metadata": {},
   "source": [
    "We can clearly see that it follows an exponential function, so the more messages it has to check the more it takes to check them. We can see that for 1000 messages it needs around 45 seconds, so for 10000 messages(size of the matrix) it would take around 450 seconds if it was a constant growing line, but as it is exponential, it would use approximately 600 seconds, which are 10 minutes.\n"
   ]
  },
  {
   "cell_type": "markdown",
   "metadata": {},
   "source": [
    "# 4. Computing the doc-ngram matrix"
   ]
  },
  {
   "cell_type": "markdown",
   "metadata": {},
   "source": [
    "## 4.1 Create list of all ngrams"
   ]
  },
  {
   "cell_type": "code",
   "execution_count": 45,
   "metadata": {},
   "outputs": [
    {
     "name": "stdout",
     "output_type": "stream",
     "text": [
      "There are 67077 distinct ngrams in the 10000 documents\n"
     ]
    }
   ],
   "source": [
    "#Initialize dictionaries and values\n",
    "NGRAM_SIZE = 3\n",
    "ngram_to_index = {}\n",
    "index_to_ngram = {}\n",
    "next_index = 0\n",
    "for message in messages:\n",
    "    all_ngrams = ngrams(message, NGRAM_SIZE)\n",
    "    for ngram in all_ngrams:\n",
    "        #For all ngrams, if they're not in ngrams list yet, we go on.\n",
    "        if(ngram not in ngram_to_index):\n",
    "            #Once the ngram it's accepted, we store his index in ngram_to_index with the name of ngram as a key\n",
    "            ngram_to_index[ngram] = next_index\n",
    "            #then we store the ngram with the index as a key in index_to_ngram.\n",
    "            index_to_ngram[next_index] = ngram\n",
    "            #Now, we sum 1 to the index\n",
    "            next_index += 1\n",
    "\n",
    "num_distinct_ngrams = next_index\n",
    "print(\"There are %d distinct ngrams in the %d documents\" % (num_distinct_ngrams, len(messages)))\n",
    "    "
   ]
  },
  {
   "cell_type": "code",
   "execution_count": 46,
   "metadata": {},
   "outputs": [
    {
     "name": "stdout",
     "output_type": "stream",
     "text": [
      "939\n",
      "tancat escoles fins\n",
      "34\n",
      "garantir la seguretat\n"
     ]
    }
   ],
   "source": [
    "#Used this cell to test the resultant dictionaries were correct.\n",
    "index1 = ngram_to_index[\"tancat escoles fins\"]\n",
    "print(ngram_to_index[\"tancat escoles fins\"])\n",
    "print(index_to_ngram[index1])\n",
    "\n",
    "index = ngram_to_index[\"garantir la seguretat\"]\n",
    "print(ngram_to_index[\"garantir la seguretat\"])\n",
    "print(index_to_ngram[index])"
   ]
  },
  {
   "cell_type": "markdown",
   "metadata": {},
   "source": [
    "## 2.2 Create table ngrams x documents"
   ]
  },
  {
   "cell_type": "code",
   "execution_count": 47,
   "metadata": {},
   "outputs": [
    {
     "name": "stdout",
     "output_type": "stream",
     "text": [
      "Matrix dimensions: 67077 rows (distinct shingles) x 10000 columns (distinct documents)\n"
     ]
    }
   ],
   "source": [
    "# LEAVE AS-IS\n",
    "\n",
    "# Create dense matrix in which every cell contains the value \"False\"\n",
    "M_ngram_doc = np.full((num_distinct_ngrams, len(messages)), False)\n",
    "\n",
    "# Print the number of rows and columns of this matrix\n",
    "# numpy.matrix.shape is a tuple, shape[0] is the number of rows, shape[1] the number of columns\n",
    "print(\"Matrix dimensions: %d rows (distinct shingles) x %d columns (distinct documents)\" % M_ngram_doc.shape)"
   ]
  },
  {
   "cell_type": "code",
   "execution_count": 48,
   "metadata": {},
   "outputs": [],
   "source": [
    "for docid in range(len(messages)):\n",
    "    #We put the ngrams of a doc as a True in M_ngram_doc\n",
    "    message = messages[docid]\n",
    "    all_ngrams = ngrams(message, 3)\n",
    "    for ngram in all_ngrams:\n",
    "        #We get the index of the ngram to know where it is on M_ngram_doc\n",
    "        i = ngram_to_index[ngram]\n",
    "        #Then in position i(ngram position) docid(id of the doc, its position in matrix) we put a True value.\n",
    "        M_ngram_doc[i, docid] = True\n"
   ]
  },
  {
   "cell_type": "code",
   "execution_count": 49,
   "metadata": {},
   "outputs": [
    {
     "name": "stdout",
     "output_type": "stream",
     "text": [
      "Density of M_ngram_doc matrix is:  0.023286968707604692\n"
     ]
    }
   ],
   "source": [
    "#We count nombers of nonzero(Trues) of the matrix with numpy function count_nonzero().\n",
    "nonzero = np.count_nonzero(M_ngram_doc)\n",
    "#Number of cells will be M*N of the matrix\n",
    "n_cells = M_ngram_doc.shape[0]*M_ngram_doc.shape[1]\n",
    "#Then, we calculate the density of the matrix\n",
    "print(\"Density of M_ngram_doc matrix is: \", nonzero/n_cells*100)"
   ]
  },
  {
   "cell_type": "code",
   "execution_count": 71,
   "metadata": {},
   "outputs": [
    {
     "name": "stdout",
     "output_type": "stream",
     "text": [
      "Clean message of docid 9602:\n",
      " emergenciescat que puc fer i que no faqs del coronavirus a 14 de marc si us plau demanem difusio \n",
      "Positions of non-zeros in column of docid 9602 of M_ngram_doc is:\n",
      "\n",
      "  ['911 (si us plau)', '1222 (emergenciescat que puc)', '1223 (que puc fer)', '1224 (puc fer que)', '1225 (fer que no)', '2574 (14 de marc)', '39144 (que no faqs)', '39145 (no faqs del)', '39146 (faqs del coronavirus)', '39147 (del coronavirus 14)', '39148 (coronavirus 14 de)', '39149 (de marc si)', '39150 (marc si us)', '39151 (us plau demanem)', '39152 (plau demanem difusio)'] \n",
      "\n",
      "Clean message of docid 941:\n",
      " hospiolot usem de forma responsable els recursos sanitaris061 urgencies per coronavirus i sanitaries012 consultes general\n",
      "Positions of non-zeros in column of docid 941 of M_ngram_doc is:\n",
      "\n",
      "  ['1476 (usem de forma)', '1477 (de forma responsable)', '1478 (forma responsable els)', '1479 (responsable els recursos)', '1480 (els recursos sanitaris061)', '1481 (recursos sanitaris061 urgencies)', '1482 (sanitaris061 urgencies per)', '1483 (urgencies per coronavirus)', '1484 (per coronavirus sanitaries012)', '1485 (coronavirus sanitaries012 consultes)', '10265 (hospiolot usem de)', '10266 (sanitaries012 consultes general)']\n"
     ]
    }
   ],
   "source": [
    "col9602 = []\n",
    "col941 = []\n",
    "\n",
    "for i in range(len(M_ngram_doc[:,9602])):\n",
    "    #We search all the ngrams in doc 9602 which means a True value in matrix M_ngram_doc\n",
    "    if(M_ngram_doc[i,9602])>0:\n",
    "        #If the ngram is in doc, add it to col9602 list which will contain all the ngrams of the doc\n",
    "        col9602.append(str(i) + ' (' + str(index_to_ngram[i]) + ')')\n",
    "        \n",
    "#Same for the doc 941\n",
    "for i in range(len(M_ngram_doc[:,941])):\n",
    "    if(M_ngram_doc[i,941])>0:\n",
    "        col941.append(str(i) + ' (' + str(index_to_ngram[i]) + ')')\n",
    "\n",
    "print(\"Clean message of docid 9602:\\n\", clean(messages[9602]))\n",
    "print(\"Positions of non-zeros in column of docid 9602 of M_ngram_doc is:\\n\\n \", col9602, \"\\n\")\n",
    "\n",
    "print(\"Clean message of docid 941:\\n\", clean(messages[941]))\n",
    "print(\"Positions of non-zeros in column of docid 941 of M_ngram_doc is:\\n\\n \", col941)"
   ]
  },
  {
   "cell_type": "markdown",
   "metadata": {},
   "source": [
    "# 3. Implement a permutation generator"
   ]
  },
  {
   "cell_type": "code",
   "execution_count": 72,
   "metadata": {},
   "outputs": [],
   "source": [
    "def random_permutation(k):\n",
    "    #Initialize the sequence of possible values of the permutation\n",
    "    sequence = list(range(0,k))\n",
    "    #Shuffle them to create a random permutation\n",
    "    random.shuffle(sequence)\n",
    "    return sequence"
   ]
  },
  {
   "cell_type": "code",
   "execution_count": 73,
   "metadata": {},
   "outputs": [
    {
     "name": "stdout",
     "output_type": "stream",
     "text": [
      "Test one permutation:\n",
      "['5 (pāṅc)', '3 (tīn)', '4 (chār)', '2 (do)', '1 (ek)']\n",
      "['5 (pet)', '3 (tri)', '4 (četiri)', '2 (dva)', '1 (jedan)']\n",
      "\n",
      "Test another permutation\n",
      "['3 (tīn)', '1 (ek)', '5 (pāṅc)', '2 (do)', '4 (chār)']\n",
      "['3 (tri)', '1 (jedan)', '5 (pet)', '2 (dva)', '4 (četiri)']\n"
     ]
    }
   ],
   "source": [
    "# LEAVE AS-IS\n",
    "\n",
    "# Permute a list according to a permutation\n",
    "def permuter(original_list, permutation):\n",
    "    permuted_list = []\n",
    "    for index in permutation:\n",
    "        permuted_list.append(original_list[index])\n",
    "    return permuted_list\n",
    "\n",
    "# Code for testing permutations\n",
    "original_list_1 = [\"1 (ek)\", \"2 (do)\", \"3 (tīn)\", \"4 (chār)\", \"5 (pāṅc)\"]\n",
    "original_list_2 = [\"1 (jedan)\", \"2 (dva)\", \"3 (tri)\", \"4 (četiri)\", \"5 (pet)\"]\n",
    "\n",
    "print(\"Test one permutation:\")\n",
    "permutation_1 = random_permutation(5)\n",
    "print(permuter(original_list_1, permutation_1))\n",
    "print(permuter(original_list_2, permutation_1))\n",
    "\n",
    "print()\n",
    "\n",
    "print(\"Test another permutation\")\n",
    "permutation_2 = random_permutation(5)\n",
    "print(permuter(original_list_1, permutation_2))\n",
    "print(permuter(original_list_2, permutation_2))"
   ]
  },
  {
   "cell_type": "markdown",
   "metadata": {},
   "source": [
    "# 4. Compute the signature of each document"
   ]
  },
  {
   "cell_type": "code",
   "execution_count": 74,
   "metadata": {},
   "outputs": [
    {
     "name": "stdout",
     "output_type": "stream",
     "text": [
      "Permutation 0: 36301, 12562, 21648, ...\n",
      "Permutation 1: 41649, 2292, 49921, ...\n",
      "Permutation 2: 62133, 32350, 31997, ...\n",
      "Permutation 3: 45787, 2881, 8050, ...\n",
      "Permutation 4: 15436, 44102, 56362, ...\n"
     ]
    }
   ],
   "source": [
    "# Leave this code as-is\n",
    "\n",
    "NUM_PERMUTATIONS = 5\n",
    "\n",
    "permutations = []\n",
    "\n",
    "# Create the permutations\n",
    "for i in range(NUM_PERMUTATIONS):\n",
    "    permutation = random_permutation(num_distinct_ngrams)\n",
    "    permutations.append(random_permutation(num_distinct_ngrams))\n",
    "    \n",
    "# Visualize the permutations by printing their first 3 elements\n",
    "for i in range(len(permutations)):\n",
    "    permutation = permutations[i]\n",
    "    print(\"Permutation %d: %d, %d, %d, ...\" % (i, permutation[0], permutation[1], permutation[2] ))"
   ]
  },
  {
   "cell_type": "code",
   "execution_count": 75,
   "metadata": {},
   "outputs": [
    {
     "name": "stdout",
     "output_type": "stream",
     "text": [
      "Creating signatures for permutation 1/5\n",
      "- Scanning document 0 of 10000\n",
      "- Scanning document 1000 of 10000\n",
      "- Scanning document 2000 of 10000\n",
      "- Scanning document 3000 of 10000\n",
      "- Scanning document 4000 of 10000\n",
      "- Scanning document 5000 of 10000\n",
      "- Scanning document 6000 of 10000\n",
      "- Scanning document 7000 of 10000\n",
      "- Scanning document 8000 of 10000\n",
      "- Scanning document 9000 of 10000\n",
      "Creating signatures for permutation 2/5\n",
      "- Scanning document 0 of 10000\n",
      "- Scanning document 1000 of 10000\n",
      "- Scanning document 2000 of 10000\n",
      "- Scanning document 3000 of 10000\n",
      "- Scanning document 4000 of 10000\n",
      "- Scanning document 5000 of 10000\n",
      "- Scanning document 6000 of 10000\n",
      "- Scanning document 7000 of 10000\n",
      "- Scanning document 8000 of 10000\n",
      "- Scanning document 9000 of 10000\n",
      "Creating signatures for permutation 3/5\n",
      "- Scanning document 0 of 10000\n",
      "- Scanning document 1000 of 10000\n",
      "- Scanning document 2000 of 10000\n",
      "- Scanning document 3000 of 10000\n",
      "- Scanning document 4000 of 10000\n",
      "- Scanning document 5000 of 10000\n",
      "- Scanning document 6000 of 10000\n",
      "- Scanning document 7000 of 10000\n",
      "- Scanning document 8000 of 10000\n",
      "- Scanning document 9000 of 10000\n",
      "Creating signatures for permutation 4/5\n",
      "- Scanning document 0 of 10000\n",
      "- Scanning document 1000 of 10000\n",
      "- Scanning document 2000 of 10000\n",
      "- Scanning document 3000 of 10000\n",
      "- Scanning document 4000 of 10000\n",
      "- Scanning document 5000 of 10000\n",
      "- Scanning document 6000 of 10000\n",
      "- Scanning document 7000 of 10000\n",
      "- Scanning document 8000 of 10000\n",
      "- Scanning document 9000 of 10000\n",
      "Creating signatures for permutation 5/5\n",
      "- Scanning document 0 of 10000\n",
      "- Scanning document 1000 of 10000\n",
      "- Scanning document 2000 of 10000\n",
      "- Scanning document 3000 of 10000\n",
      "- Scanning document 4000 of 10000\n",
      "- Scanning document 5000 of 10000\n",
      "- Scanning document 6000 of 10000\n",
      "- Scanning document 7000 of 10000\n",
      "- Scanning document 8000 of 10000\n",
      "- Scanning document 9000 of 10000\n"
     ]
    }
   ],
   "source": [
    "M_signature_doc = np.full((NUM_PERMUTATIONS, len(messages)), np.nan)\n",
    "# Find the first ngram in a document, according to a permutation\n",
    "def find_first_one(docid, permutation):\n",
    "    for shingle_id in permutation:\n",
    "        if M_ngram_doc[shingle_id, docid] == True:\n",
    "            return shingle_id\n",
    "    return -1\n",
    "\n",
    "# Create permutations\n",
    "for permutation_num in range(NUM_PERMUTATIONS):\n",
    "    print(\"Creating signatures for permutation %d/%d\" % (permutation_num+1, NUM_PERMUTATIONS))\n",
    "    permutation = permutations[permutation_num]\n",
    "    for docid in range(len(messages)):\n",
    "        if docid % 1000 == 0:\n",
    "            print(\"- Scanning document %d of %d\" % (docid, len(messages)))\n",
    "        M_signature_doc[permutation_num,docid]= find_first_one(docid, permutation)\n"
   ]
  },
  {
   "cell_type": "code",
   "execution_count": 76,
   "metadata": {},
   "outputs": [
    {
     "name": "stdout",
     "output_type": "stream",
     "text": [
      "Document #385\n",
      "Message       : RT @gencat: 🔴 El @govern de la @gencat anuncia el #confinament de tot Catalunya.\n",
      "\n",
      "Davant l’emergència de la #COVID19, el missatge és clau:…\n",
      "Clean message : gencat el govern de la gencat anuncia el confinament de tot catalunyadavant lemergencia de la covid19 el missatge es clau\n",
      "Ngrams        : [62, 3334, 3460, 4105, 4911, 4912, 4913, 4914, 4915, 4916, 4917, 4918, 4919, 4920, 4921, 4922, 4923, 4924]\n",
      "Signature     : [62.0, 4916.0, 4923.0, 4915.0, 3334.0]\n",
      "\n",
      "Document #627\n",
      "Message       : PROCICAT_CORONAVIRUS. El @govern de la @gencat anuncia el #confinament de tot Catalunya. Davant l’emergència de la #COVID19, el missatge és clau: limitar la mobilitat ajudarà a evitar la propagació del #coronavirus. Evitem desplaçaments i reduïm la vida social #JoEmQuedoACasa\n",
      "Clean message : procicatcoronavirus el govern de la gencat anuncia el confinament de tot catalunya davant lemergencia de la covid19 el missatge es clau limitar la mobilitat ajudara a evitar la propagacio del coronavirus evitem desplacaments i redum la vida social joemquedoacasa\n",
      "Ngrams        : [62, 3334, 3460, 4105, 4911, 4912, 4913, 4914, 4915, 4916, 4917, 4918, 4919, 4920, 4921, 4922, 4923, 4924]\n",
      "Signature     : [7248.0, 4916.0, 4923.0, 7256.0, 3334.0]\n"
     ]
    }
   ],
   "source": [
    "# Leave this code as-is\n",
    "\n",
    "def extract_ngrams(docid):\n",
    "    return [x for x in range(num_distinct_ngrams) if M_ngram_doc[x, i] == True]\n",
    "\n",
    "def extract_signature(docid):\n",
    "    return [M_signature_doc[x, docid] for x in range(NUM_PERMUTATIONS)]\n",
    "\n",
    "def print_sig(messages, M_ngram_doc, M_signature_doc, i):\n",
    "    print(\"Document #%d\" % i)\n",
    "    print(\"Message       : %s\" % messages[i])\n",
    "    print(\"Clean message : %s\" % clean(messages[i]))\n",
    "    print(\"Ngrams        : %s\" % extract_ngrams(i))\n",
    "    print(\"Signature     : %s\" % extract_signature(i))\n",
    "\n",
    "        \n",
    "i = 385\n",
    "j = 627\n",
    "\n",
    "print_sig(messages, M_ngram_doc, M_signature_doc, i )\n",
    "\n",
    "print()\n",
    "\n",
    "print_sig(messages, M_ngram_doc, M_signature_doc, j )"
   ]
  },
  {
   "cell_type": "markdown",
   "metadata": {},
   "source": [
    "# 5. Compare all pairs of signatures"
   ]
  },
  {
   "cell_type": "code",
   "execution_count": 77,
   "metadata": {},
   "outputs": [
    {
     "name": "stdout",
     "output_type": "stream",
     "text": [
      "0/10000 documents scanned\n",
      "16 has 18 sig partial matches and 71 sig full matches\n",
      "20 has 37 sig partial matches and 28 sig full matches\n",
      "53 has 0 sig partial matches and 57 sig full matches\n",
      "77 has 179 sig partial matches and 6 sig full matches\n",
      "84 has 18 sig partial matches and 70 sig full matches\n",
      "85 has 24 sig partial matches and 27 sig full matches\n",
      "89 has 98 sig partial matches and 0 sig full matches\n",
      "166 has 0 sig partial matches and 56 sig full matches\n",
      "167 has 0 sig partial matches and 55 sig full matches\n",
      "168 has 0 sig partial matches and 54 sig full matches\n",
      "172 has 0 sig partial matches and 53 sig full matches\n",
      "174 has 0 sig partial matches and 52 sig full matches\n",
      "176 has 0 sig partial matches and 51 sig full matches\n",
      "226 has 85 sig partial matches and 13 sig full matches\n",
      "307 has 70 sig partial matches and 17 sig full matches\n",
      "328 has 0 sig partial matches and 65 sig full matches\n",
      "331 has 0 sig partial matches and 64 sig full matches\n",
      "394 has 35 sig partial matches and 27 sig full matches\n",
      "412 has 0 sig partial matches and 63 sig full matches\n",
      "425 has 17 sig partial matches and 69 sig full matches\n",
      "448 has 0 sig partial matches and 62 sig full matches\n",
      "500/10000 documents scanned\n",
      "578 has 0 sig partial matches and 56 sig full matches\n",
      "587 has 0 sig partial matches and 55 sig full matches\n",
      "620 has 17 sig partial matches and 68 sig full matches\n",
      "629 has 62 sig partial matches and 0 sig full matches\n",
      "679 has 59 sig partial matches and 1 sig full matches\n",
      "688 has 17 sig partial matches and 67 sig full matches\n",
      "743 has 0 sig partial matches and 54 sig full matches\n",
      "782 has 82 sig partial matches and 12 sig full matches\n",
      "793 has 0 sig partial matches and 61 sig full matches\n",
      "851 has 17 sig partial matches and 66 sig full matches\n",
      "939 has 17 sig partial matches and 65 sig full matches\n",
      "964 has 0 sig partial matches and 53 sig full matches\n",
      "981 has 32 sig partial matches and 26 sig full matches\n",
      "982 has 0 sig partial matches and 60 sig full matches\n",
      "989 has 32 sig partial matches and 25 sig full matches\n",
      "991 has 0 sig partial matches and 59 sig full matches\n",
      "992 has 0 sig partial matches and 58 sig full matches\n",
      "998 has 0 sig partial matches and 52 sig full matches\n",
      "1000/10000 documents scanned\n",
      "1009 has 0 sig partial matches and 57 sig full matches\n",
      "1030 has 17 sig partial matches and 64 sig full matches\n",
      "1034 has 32 sig partial matches and 24 sig full matches\n",
      "1035 has 64 sig partial matches and 16 sig full matches\n",
      "1069 has 16 sig partial matches and 63 sig full matches\n",
      "1106 has 55 sig partial matches and 1 sig full matches\n",
      "1119 has 16 sig partial matches and 62 sig full matches\n",
      "1140 has 179 sig partial matches and 5 sig full matches\n",
      "1174 has 16 sig partial matches and 61 sig full matches\n",
      "1213 has 16 sig partial matches and 60 sig full matches\n",
      "1214 has 31 sig partial matches and 23 sig full matches\n",
      "1221 has 16 sig partial matches and 59 sig full matches\n",
      "1224 has 31 sig partial matches and 22 sig full matches\n",
      "1231 has 0 sig partial matches and 51 sig full matches\n",
      "1244 has 86 sig partial matches and 0 sig full matches\n",
      "1257 has 58 sig partial matches and 0 sig full matches\n",
      "1401 has 16 sig partial matches and 58 sig full matches\n",
      "1432 has 16 sig partial matches and 57 sig full matches\n",
      "1474 has 0 sig partial matches and 56 sig full matches\n",
      "1500/10000 documents scanned\n",
      "1504 has 0 sig partial matches and 55 sig full matches\n",
      "1510 has 57 sig partial matches and 15 sig full matches\n",
      "1644 has 0 sig partial matches and 54 sig full matches\n",
      "1693 has 179 sig partial matches and 4 sig full matches\n",
      "1701 has 73 sig partial matches and 11 sig full matches\n",
      "1740 has 73 sig partial matches and 10 sig full matches\n",
      "1772 has 15 sig partial matches and 56 sig full matches\n",
      "1849 has 15 sig partial matches and 55 sig full matches\n",
      "1859 has 15 sig partial matches and 54 sig full matches\n",
      "1901 has 15 sig partial matches and 53 sig full matches\n",
      "1907 has 15 sig partial matches and 52 sig full matches\n",
      "1923 has 15 sig partial matches and 51 sig full matches\n",
      "1971 has 15 sig partial matches and 50 sig full matches\n",
      "1975 has 15 sig partial matches and 49 sig full matches\n",
      "2000/10000 documents scanned\n",
      "2051 has 15 sig partial matches and 48 sig full matches\n",
      "2059 has 15 sig partial matches and 47 sig full matches\n",
      "2062 has 15 sig partial matches and 46 sig full matches\n",
      "2103 has 15 sig partial matches and 45 sig full matches\n",
      "2148 has 15 sig partial matches and 44 sig full matches\n",
      "2180 has 0 sig partial matches and 53 sig full matches\n",
      "2181 has 0 sig partial matches and 52 sig full matches\n",
      "2183 has 0 sig partial matches and 51 sig full matches\n",
      "2199 has 44 sig partial matches and 14 sig full matches\n",
      "2205 has 44 sig partial matches and 13 sig full matches\n",
      "2206 has 13 sig partial matches and 43 sig full matches\n",
      "2209 has 13 sig partial matches and 42 sig full matches\n",
      "2359 has 13 sig partial matches and 41 sig full matches\n",
      "2376 has 69 sig partial matches and 9 sig full matches\n",
      "2387 has 69 sig partial matches and 8 sig full matches\n",
      "2427 has 13 sig partial matches and 40 sig full matches\n",
      "2500/10000 documents scanned\n",
      "2514 has 13 sig partial matches and 39 sig full matches\n",
      "2517 has 13 sig partial matches and 38 sig full matches\n",
      "2675 has 69 sig partial matches and 7 sig full matches\n",
      "2702 has 74 sig partial matches and 0 sig full matches\n",
      "2707 has 67 sig partial matches and 6 sig full matches\n",
      "2749 has 179 sig partial matches and 3 sig full matches\n",
      "3000/10000 documents scanned\n",
      "3211 has 179 sig partial matches and 2 sig full matches\n",
      "3500/10000 documents scanned\n",
      "3563 has 179 sig partial matches and 1 sig full matches\n",
      "3725 has 58 sig partial matches and 5 sig full matches\n",
      "4000/10000 documents scanned\n",
      "4137 has 53 sig partial matches and 4 sig full matches\n",
      "4154 has 53 sig partial matches and 3 sig full matches\n",
      "4286 has 52 sig partial matches and 2 sig full matches\n",
      "4450 has 51 sig partial matches and 0 sig full matches\n",
      "4500/10000 documents scanned\n",
      "4758 has 179 sig partial matches and 0 sig full matches\n",
      "5000/10000 documents scanned\n",
      "5077 has 0 sig partial matches and 176 sig full matches\n",
      "5080 has 0 sig partial matches and 175 sig full matches\n",
      "5081 has 0 sig partial matches and 174 sig full matches\n",
      "5083 has 0 sig partial matches and 173 sig full matches\n",
      "5109 has 0 sig partial matches and 66 sig full matches\n",
      "5117 has 0 sig partial matches and 71 sig full matches\n",
      "5129 has 0 sig partial matches and 54 sig full matches\n",
      "5146 has 0 sig partial matches and 65 sig full matches\n",
      "5155 has 0 sig partial matches and 64 sig full matches\n",
      "5200 has 0 sig partial matches and 172 sig full matches\n",
      "5211 has 0 sig partial matches and 63 sig full matches\n",
      "5225 has 0 sig partial matches and 62 sig full matches\n",
      "5248 has 0 sig partial matches and 171 sig full matches\n",
      "5250 has 0 sig partial matches and 170 sig full matches\n",
      "5252 has 0 sig partial matches and 169 sig full matches\n",
      "5257 has 0 sig partial matches and 168 sig full matches\n",
      "5262 has 0 sig partial matches and 167 sig full matches\n",
      "5267 has 0 sig partial matches and 166 sig full matches\n",
      "5271 has 0 sig partial matches and 54 sig full matches\n",
      "5273 has 0 sig partial matches and 165 sig full matches\n",
      "5282 has 0 sig partial matches and 61 sig full matches\n",
      "5316 has 0 sig partial matches and 53 sig full matches\n",
      "5319 has 0 sig partial matches and 52 sig full matches\n",
      "5334 has 0 sig partial matches and 164 sig full matches\n",
      "5339 has 0 sig partial matches and 163 sig full matches\n",
      "5343 has 0 sig partial matches and 162 sig full matches\n",
      "5349 has 0 sig partial matches and 161 sig full matches\n",
      "5372 has 0 sig partial matches and 160 sig full matches\n",
      "5393 has 0 sig partial matches and 159 sig full matches\n",
      "5394 has 0 sig partial matches and 158 sig full matches\n",
      "5400 has 0 sig partial matches and 60 sig full matches\n",
      "5403 has 0 sig partial matches and 70 sig full matches\n",
      "5404 has 0 sig partial matches and 69 sig full matches\n",
      "5426 has 0 sig partial matches and 157 sig full matches\n",
      "5428 has 0 sig partial matches and 53 sig full matches\n",
      "5429 has 0 sig partial matches and 156 sig full matches\n",
      "5430 has 0 sig partial matches and 52 sig full matches\n",
      "5437 has 0 sig partial matches and 155 sig full matches\n",
      "5440 has 0 sig partial matches and 154 sig full matches\n",
      "5445 has 0 sig partial matches and 51 sig full matches\n",
      "5459 has 0 sig partial matches and 68 sig full matches\n"
     ]
    },
    {
     "name": "stdout",
     "output_type": "stream",
     "text": [
      "5475 has 0 sig partial matches and 153 sig full matches\n",
      "5484 has 0 sig partial matches and 152 sig full matches\n",
      "5500/10000 documents scanned\n",
      "5509 has 0 sig partial matches and 151 sig full matches\n",
      "5515 has 0 sig partial matches and 150 sig full matches\n",
      "5517 has 0 sig partial matches and 149 sig full matches\n",
      "5520 has 0 sig partial matches and 148 sig full matches\n",
      "5522 has 0 sig partial matches and 59 sig full matches\n",
      "5525 has 0 sig partial matches and 58 sig full matches\n",
      "5532 has 0 sig partial matches and 57 sig full matches\n",
      "5539 has 0 sig partial matches and 56 sig full matches\n",
      "5542 has 0 sig partial matches and 67 sig full matches\n",
      "5558 has 0 sig partial matches and 55 sig full matches\n",
      "5561 has 0 sig partial matches and 147 sig full matches\n",
      "5564 has 0 sig partial matches and 54 sig full matches\n",
      "5579 has 0 sig partial matches and 53 sig full matches\n",
      "5583 has 0 sig partial matches and 51 sig full matches\n",
      "5589 has 0 sig partial matches and 52 sig full matches\n",
      "5592 has 0 sig partial matches and 66 sig full matches\n",
      "5612 has 0 sig partial matches and 51 sig full matches\n",
      "5619 has 0 sig partial matches and 65 sig full matches\n",
      "5636 has 0 sig partial matches and 80 sig full matches\n",
      "5642 has 0 sig partial matches and 64 sig full matches\n",
      "5646 has 0 sig partial matches and 63 sig full matches\n",
      "5648 has 0 sig partial matches and 62 sig full matches\n",
      "5662 has 0 sig partial matches and 61 sig full matches\n",
      "5664 has 0 sig partial matches and 60 sig full matches\n",
      "5698 has 0 sig partial matches and 79 sig full matches\n",
      "5700 has 0 sig partial matches and 78 sig full matches\n",
      "5725 has 0 sig partial matches and 77 sig full matches\n",
      "5733 has 0 sig partial matches and 76 sig full matches\n",
      "5740 has 0 sig partial matches and 75 sig full matches\n",
      "5751 has 0 sig partial matches and 146 sig full matches\n",
      "5762 has 0 sig partial matches and 74 sig full matches\n",
      "5784 has 0 sig partial matches and 145 sig full matches\n",
      "5787 has 0 sig partial matches and 144 sig full matches\n",
      "5818 has 0 sig partial matches and 59 sig full matches\n",
      "5822 has 0 sig partial matches and 143 sig full matches\n",
      "5858 has 0 sig partial matches and 142 sig full matches\n",
      "5885 has 0 sig partial matches and 141 sig full matches\n",
      "5891 has 0 sig partial matches and 140 sig full matches\n",
      "5892 has 0 sig partial matches and 139 sig full matches\n",
      "5901 has 0 sig partial matches and 138 sig full matches\n",
      "5902 has 0 sig partial matches and 137 sig full matches\n",
      "5917 has 0 sig partial matches and 136 sig full matches\n",
      "5918 has 0 sig partial matches and 58 sig full matches\n",
      "5957 has 0 sig partial matches and 57 sig full matches\n",
      "5960 has 0 sig partial matches and 56 sig full matches\n",
      "5968 has 0 sig partial matches and 73 sig full matches\n",
      "5998 has 0 sig partial matches and 55 sig full matches\n",
      "6000/10000 documents scanned\n",
      "6005 has 0 sig partial matches and 72 sig full matches\n",
      "6010 has 0 sig partial matches and 71 sig full matches\n",
      "6024 has 0 sig partial matches and 135 sig full matches\n",
      "6026 has 0 sig partial matches and 134 sig full matches\n",
      "6055 has 0 sig partial matches and 133 sig full matches\n",
      "6063 has 0 sig partial matches and 132 sig full matches\n",
      "6069 has 0 sig partial matches and 131 sig full matches\n",
      "6118 has 0 sig partial matches and 54 sig full matches\n",
      "6130 has 0 sig partial matches and 70 sig full matches\n",
      "6157 has 0 sig partial matches and 130 sig full matches\n",
      "6160 has 0 sig partial matches and 129 sig full matches\n",
      "6164 has 0 sig partial matches and 128 sig full matches\n",
      "6165 has 0 sig partial matches and 127 sig full matches\n",
      "6169 has 0 sig partial matches and 126 sig full matches\n",
      "6171 has 0 sig partial matches and 125 sig full matches\n",
      "6189 has 0 sig partial matches and 124 sig full matches\n",
      "6212 has 0 sig partial matches and 123 sig full matches\n",
      "6213 has 0 sig partial matches and 122 sig full matches\n",
      "6215 has 0 sig partial matches and 121 sig full matches\n",
      "6219 has 0 sig partial matches and 120 sig full matches\n",
      "6237 has 0 sig partial matches and 119 sig full matches\n",
      "6268 has 0 sig partial matches and 118 sig full matches\n",
      "6312 has 0 sig partial matches and 53 sig full matches\n",
      "6315 has 0 sig partial matches and 52 sig full matches\n",
      "6324 has 0 sig partial matches and 51 sig full matches\n",
      "6369 has 0 sig partial matches and 69 sig full matches\n",
      "6374 has 0 sig partial matches and 68 sig full matches\n",
      "6391 has 0 sig partial matches and 67 sig full matches\n",
      "6393 has 0 sig partial matches and 66 sig full matches\n",
      "6405 has 0 sig partial matches and 65 sig full matches\n",
      "6408 has 0 sig partial matches and 64 sig full matches\n",
      "6452 has 0 sig partial matches and 117 sig full matches\n",
      "6466 has 0 sig partial matches and 63 sig full matches\n",
      "6496 has 0 sig partial matches and 62 sig full matches\n",
      "6500/10000 documents scanned\n",
      "6510 has 0 sig partial matches and 61 sig full matches\n",
      "6511 has 0 sig partial matches and 60 sig full matches\n",
      "6517 has 0 sig partial matches and 59 sig full matches\n",
      "6636 has 0 sig partial matches and 116 sig full matches\n",
      "6698 has 0 sig partial matches and 115 sig full matches\n",
      "6734 has 0 sig partial matches and 114 sig full matches\n",
      "6738 has 0 sig partial matches and 113 sig full matches\n",
      "6739 has 0 sig partial matches and 112 sig full matches\n",
      "6760 has 0 sig partial matches and 111 sig full matches\n",
      "6761 has 0 sig partial matches and 110 sig full matches\n",
      "6770 has 0 sig partial matches and 109 sig full matches\n",
      "6774 has 0 sig partial matches and 108 sig full matches\n",
      "6780 has 0 sig partial matches and 107 sig full matches\n",
      "6786 has 0 sig partial matches and 106 sig full matches\n",
      "6787 has 0 sig partial matches and 105 sig full matches\n",
      "6824 has 0 sig partial matches and 104 sig full matches\n",
      "6854 has 0 sig partial matches and 103 sig full matches\n",
      "6909 has 0 sig partial matches and 102 sig full matches\n",
      "6943 has 0 sig partial matches and 101 sig full matches\n",
      "6996 has 0 sig partial matches and 58 sig full matches\n",
      "6997 has 0 sig partial matches and 57 sig full matches\n",
      "7000/10000 documents scanned\n",
      "7012 has 0 sig partial matches and 56 sig full matches\n",
      "7027 has 0 sig partial matches and 55 sig full matches\n",
      "7045 has 0 sig partial matches and 100 sig full matches\n",
      "7046 has 0 sig partial matches and 54 sig full matches\n",
      "7048 has 0 sig partial matches and 53 sig full matches\n",
      "7066 has 0 sig partial matches and 52 sig full matches\n",
      "7067 has 0 sig partial matches and 51 sig full matches\n",
      "7189 has 0 sig partial matches and 99 sig full matches\n",
      "7242 has 0 sig partial matches and 98 sig full matches\n",
      "7249 has 0 sig partial matches and 97 sig full matches\n",
      "7254 has 0 sig partial matches and 96 sig full matches\n",
      "7258 has 0 sig partial matches and 95 sig full matches\n",
      "7316 has 0 sig partial matches and 94 sig full matches\n",
      "7320 has 0 sig partial matches and 93 sig full matches\n",
      "7328 has 0 sig partial matches and 92 sig full matches\n",
      "7376 has 0 sig partial matches and 91 sig full matches\n",
      "7390 has 0 sig partial matches and 90 sig full matches\n",
      "7500/10000 documents scanned\n",
      "7511 has 0 sig partial matches and 89 sig full matches\n",
      "7530 has 0 sig partial matches and 88 sig full matches\n",
      "7531 has 0 sig partial matches and 87 sig full matches\n",
      "7532 has 0 sig partial matches and 86 sig full matches\n",
      "7533 has 0 sig partial matches and 85 sig full matches\n",
      "7539 has 0 sig partial matches and 84 sig full matches\n",
      "7554 has 0 sig partial matches and 83 sig full matches\n",
      "7600 has 0 sig partial matches and 82 sig full matches\n",
      "7672 has 0 sig partial matches and 81 sig full matches\n",
      "7702 has 0 sig partial matches and 80 sig full matches\n",
      "7711 has 0 sig partial matches and 79 sig full matches\n",
      "7838 has 0 sig partial matches and 78 sig full matches\n",
      "7884 has 0 sig partial matches and 77 sig full matches\n",
      "7929 has 0 sig partial matches and 76 sig full matches\n",
      "7931 has 0 sig partial matches and 75 sig full matches\n",
      "7958 has 0 sig partial matches and 74 sig full matches\n",
      "8000/10000 documents scanned\n",
      "8000 has 0 sig partial matches and 73 sig full matches\n",
      "8013 has 0 sig partial matches and 72 sig full matches\n",
      "8016 has 0 sig partial matches and 71 sig full matches\n",
      "8025 has 0 sig partial matches and 70 sig full matches\n",
      "8050 has 0 sig partial matches and 69 sig full matches\n",
      "8160 has 0 sig partial matches and 68 sig full matches\n",
      "8165 has 0 sig partial matches and 67 sig full matches\n",
      "8174 has 0 sig partial matches and 66 sig full matches\n"
     ]
    },
    {
     "name": "stdout",
     "output_type": "stream",
     "text": [
      "8176 has 0 sig partial matches and 65 sig full matches\n",
      "8179 has 0 sig partial matches and 64 sig full matches\n",
      "8184 has 0 sig partial matches and 63 sig full matches\n",
      "8186 has 0 sig partial matches and 62 sig full matches\n",
      "8189 has 0 sig partial matches and 61 sig full matches\n",
      "8268 has 0 sig partial matches and 60 sig full matches\n",
      "8276 has 0 sig partial matches and 59 sig full matches\n",
      "8297 has 0 sig partial matches and 58 sig full matches\n",
      "8308 has 0 sig partial matches and 57 sig full matches\n",
      "8383 has 0 sig partial matches and 56 sig full matches\n",
      "8500/10000 documents scanned\n",
      "8513 has 0 sig partial matches and 55 sig full matches\n",
      "8560 has 0 sig partial matches and 54 sig full matches\n",
      "8585 has 0 sig partial matches and 53 sig full matches\n",
      "8662 has 0 sig partial matches and 52 sig full matches\n",
      "8664 has 0 sig partial matches and 51 sig full matches\n",
      "9000/10000 documents scanned\n",
      "9500/10000 documents scanned\n"
     ]
    }
   ],
   "source": [
    "is_possible_duplicate = {}\n",
    "threshold = 50\n",
    "# Iterate through all documents\n",
    "for docid1 in range(len(messages)):\n",
    "\n",
    "     # Do not examine again a document that is a possible duplicate\n",
    "    if docid not in is_possible_duplicate:\n",
    "\n",
    "        # Counters for full and partial signature matches\n",
    "        count_sig_full_matches = 0\n",
    "        count_sig_partial_matches = 0\n",
    "\n",
    "        # Extract the signature of the doc1\n",
    "        signature1 = extract_signature(docid1)\n",
    "        if docid1 % 500 == 0:\n",
    "            print(\"%d/%d documents scanned\" % (docid1, len(messages)))\n",
    "\n",
    "        # Iterate through documents with docid larger than doc1\n",
    "        for docid2 in range(docid1+1, len(messages)):\n",
    "\n",
    "            # If this has not already been marked as duplicate of another document\n",
    "            if docid2 not in is_possible_duplicate:\n",
    "\n",
    "                # Extract signature of doc2\n",
    "                signature2 = extract_signature(docid2)\n",
    "\n",
    "                # - Increase count_sig_full_matches if jaccard similarity = 1 and count_sig_partial_matches if jaccard_similarity is between 0.2 and 1.\n",
    "                if(jaccard_similarity(signature1, signature2) == 1):\n",
    "                    count_sig_full_matches+=1\n",
    "                    is_possible_duplicate[docid1] = docid2 #Adding to possible duplicates of docid1, docid2.\n",
    "                elif(0.2 < jaccard_similarity(signature1, signature2) and jaccard_similarity(signature1, signature2) < 1):\n",
    "                    count_sig_partial_matches+=1\n",
    "                    is_possible_duplicate[docid1] = docid2\n",
    "\n",
    "        # - If the number of partial matches plus full matches exceeds a threshold\n",
    "        #   print the document doc1 and indicate how many matches of each type it has        \n",
    "        if(count_sig_partial_matches+count_sig_full_matches > threshold):\n",
    "            print(docid1,\"has\", count_sig_partial_matches,\"sig partial matches and\", count_sig_full_matches, \"sig full matches\")\n"
   ]
  },
  {
   "cell_type": "code",
   "execution_count": 78,
   "metadata": {},
   "outputs": [
    {
     "data": {
      "text/plain": [
       "'RT @emergenciescat: Què puc fer i que no? FAQs del #coronavirus a 14 de març. si us plau, demanem difusió. https://t.co/D5HNxwYjwK'"
      ]
     },
     "execution_count": 78,
     "metadata": {},
     "output_type": "execute_result"
    }
   ],
   "source": [
    "messages[5077]"
   ]
  },
  {
   "cell_type": "markdown",
   "metadata": {},
   "source": [
    "First of all, we can see that this tweet comes from \"emergenciescat\" which is a reliable source of information. Due to this, people will copy the message as it is because there's no need to change anything about it. Furthermore, they are asking for diffusion, so people will retweet the tweet and share it. Finally, since it has a lot of keywords and is from the day lockdown started, a lot of people were looking for reliable information on this topic."
   ]
  },
  {
   "cell_type": "code",
   "execution_count": 79,
   "metadata": {},
   "outputs": [
    {
     "data": {
      "text/plain": [
       "'Quines mesures de prevenció cal seguir per evitar la propagació del #coronavirus, segons @salutcat 👇 https://t.co/7W9gwTVaQG'"
      ]
     },
     "execution_count": 79,
     "metadata": {},
     "output_type": "execute_result"
    }
   ],
   "source": [
    "messages[1257]"
   ]
  },
  {
   "cell_type": "code",
   "execution_count": 80,
   "metadata": {},
   "outputs": [
    {
     "data": {
      "text/plain": [
       "'RT @salutcat: Les mesures extraordinàries de prevenció que cal seguir per evitar la propagació del 🦠 #coronavirus SARS-CoV-2 passen, sobret…'"
      ]
     },
     "execution_count": 80,
     "metadata": {},
     "output_type": "execute_result"
    }
   ],
   "source": [
    "messages[is_possible_duplicate[1257]]"
   ]
  },
  {
   "cell_type": "markdown",
   "metadata": {},
   "source": [
    "The simlarity of these tweets it's really high because both tweets talks about preventing the spread of coronavirus, and both are reporting of the same news so they will use the same keywords in order to hook the reader and add some words different to put context of the new. In addition, they mention the source in the tweet so it will be another word in common. All of this, makes these tweets so similar and possible duplicates."
   ]
  },
  {
   "cell_type": "markdown",
   "metadata": {},
   "source": [
    "<font size=\"+2\" color=\"#003300\">I hereby declare that, except for the code provided by the course instructors, all of my code, report, and figures were produced by myself.</font>"
   ]
  }
 ],
 "metadata": {
  "kernelspec": {
   "display_name": "Python 3",
   "language": "python",
   "name": "python3"
  },
  "language_info": {
   "codemirror_mode": {
    "name": "ipython",
    "version": 3
   },
   "file_extension": ".py",
   "mimetype": "text/x-python",
   "name": "python",
   "nbconvert_exporter": "python",
   "pygments_lexer": "ipython3",
   "version": "3.8.8"
  }
 },
 "nbformat": 4,
 "nbformat_minor": 2
}
